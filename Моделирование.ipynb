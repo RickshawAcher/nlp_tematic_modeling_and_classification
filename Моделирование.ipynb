{
 "cells": [
  {
   "cell_type": "markdown",
   "id": "67c6da1d",
   "metadata": {
    "heading_collapsed": true
   },
   "source": [
    "# Библиотеки"
   ]
  },
  {
   "cell_type": "code",
   "execution_count": 1,
   "id": "0962d1de",
   "metadata": {
    "ExecuteTime": {
     "end_time": "2024-06-15T15:27:13.390022Z",
     "start_time": "2024-06-15T15:27:09.971469Z"
    },
    "hidden": true
   },
   "outputs": [],
   "source": [
    "import json\n",
    "import time\n",
    "import warnings\n",
    "from datetime import datetime\n",
    "import pickle\n",
    "import gensim.downloader as api\n",
    "from gensim import corpora\n",
    "from gensim.models import CoherenceModel, KeyedVectors, Word2Vec\n",
    "from gensim.models.fasttext import FastTextKeyedVectors\n",
    "from gensim.models.ldamodel import LdaModel\n",
    "from gensim.test.utils import datapath\n",
    "from sklearn.model_selection import train_test_split\n",
    "from tqdm import tqdm\n",
    "\n",
    "from classes_and_definitions import *\n",
    "warnings.filterwarnings(\"ignore\")\n"
   ]
  },
  {
   "cell_type": "markdown",
   "id": "a530f007",
   "metadata": {},
   "source": [
    "# Загрузка уже обработанных данных"
   ]
  },
  {
   "cell_type": "code",
   "execution_count": 2,
   "id": "94392bb7",
   "metadata": {
    "ExecuteTime": {
     "end_time": "2024-06-15T15:27:16.463617Z",
     "start_time": "2024-06-15T15:27:13.423706Z"
    }
   },
   "outputs": [
    {
     "data": {
      "text/html": [
       "<div>\n",
       "<style scoped>\n",
       "    .dataframe tbody tr th:only-of-type {\n",
       "        vertical-align: middle;\n",
       "    }\n",
       "\n",
       "    .dataframe tbody tr th {\n",
       "        vertical-align: top;\n",
       "    }\n",
       "\n",
       "    .dataframe thead th {\n",
       "        text-align: right;\n",
       "    }\n",
       "</style>\n",
       "<table border=\"1\" class=\"dataframe\">\n",
       "  <thead>\n",
       "    <tr style=\"text-align: right;\">\n",
       "      <th></th>\n",
       "      <th>text</th>\n",
       "      <th>city</th>\n",
       "      <th>date</th>\n",
       "      <th>rating</th>\n",
       "      <th>grade</th>\n",
       "      <th>bank</th>\n",
       "      <th>category</th>\n",
       "      <th>site</th>\n",
       "      <th>week</th>\n",
       "      <th>month</th>\n",
       "      <th>text_processed</th>\n",
       "      <th>lemmas</th>\n",
       "      <th>lemmas_with_tags</th>\n",
       "      <th>category_map</th>\n",
       "    </tr>\n",
       "  </thead>\n",
       "  <tbody>\n",
       "    <tr>\n",
       "      <th>0</th>\n",
       "      <td>21.01.2024 сделала заявку на перенос даты плат...</td>\n",
       "      <td>Москва</td>\n",
       "      <td>2024-01-23</td>\n",
       "      <td>1</td>\n",
       "      <td>0</td>\n",
       "      <td>МТС Банк</td>\n",
       "      <td>credits</td>\n",
       "      <td>banki_ru</td>\n",
       "      <td>2024-01-22/2024-01-28</td>\n",
       "      <td>2024-01</td>\n",
       "      <td>['сделала', 'заявку', 'перенос', 'даты', 'плат...</td>\n",
       "      <td>[сделать, заявка, перенос, дата, платеж, прило...</td>\n",
       "      <td>[сделать_VERB, заявка_NOUN, перенос_NOUN, дата...</td>\n",
       "      <td>1</td>\n",
       "    </tr>\n",
       "    <tr>\n",
       "      <th>1</th>\n",
       "      <td>Сталкнулся с такой проблемой что при переводе ...</td>\n",
       "      <td>Екатеринбург</td>\n",
       "      <td>2024-01-23</td>\n",
       "      <td>1</td>\n",
       "      <td>0</td>\n",
       "      <td>МТС Банк</td>\n",
       "      <td>credits</td>\n",
       "      <td>banki_ru</td>\n",
       "      <td>2024-01-22/2024-01-28</td>\n",
       "      <td>2024-01</td>\n",
       "      <td>['сталкнулся', 'проблемой', 'переводе', 'денег...</td>\n",
       "      <td>[проблема, перевод, деньги, заблокировать, опе...</td>\n",
       "      <td>[сталкнуться_VERB, проблема_NOUN, перевод_NOUN...</td>\n",
       "      <td>1</td>\n",
       "    </tr>\n",
       "    <tr>\n",
       "      <th>2</th>\n",
       "      <td>15-16/01 пытался перевести деньги с дебетовой ...</td>\n",
       "      <td>Санкт-Петербург</td>\n",
       "      <td>2024-01-18</td>\n",
       "      <td>2</td>\n",
       "      <td>0</td>\n",
       "      <td>МТС Банк</td>\n",
       "      <td>credits</td>\n",
       "      <td>banki_ru</td>\n",
       "      <td>2024-01-15/2024-01-21</td>\n",
       "      <td>2024-01</td>\n",
       "      <td>['число', 'пытался', 'перевести', 'деньги', 'д...</td>\n",
       "      <td>[пытаться, перевести, деньги, дебетовый, карта...</td>\n",
       "      <td>[число_NOUN, пытаться_VERB, перевести_VERB, де...</td>\n",
       "      <td>1</td>\n",
       "    </tr>\n",
       "  </tbody>\n",
       "</table>\n",
       "</div>"
      ],
      "text/plain": [
       "                                                text             city  \\\n",
       "0  21.01.2024 сделала заявку на перенос даты плат...           Москва   \n",
       "1  Сталкнулся с такой проблемой что при переводе ...     Екатеринбург   \n",
       "2  15-16/01 пытался перевести деньги с дебетовой ...  Санкт-Петербург   \n",
       "\n",
       "         date  rating  grade      bank category      site  \\\n",
       "0  2024-01-23       1      0  МТС Банк  credits  banki_ru   \n",
       "1  2024-01-23       1      0  МТС Банк  credits  banki_ru   \n",
       "2  2024-01-18       2      0  МТС Банк  credits  banki_ru   \n",
       "\n",
       "                    week    month  \\\n",
       "0  2024-01-22/2024-01-28  2024-01   \n",
       "1  2024-01-22/2024-01-28  2024-01   \n",
       "2  2024-01-15/2024-01-21  2024-01   \n",
       "\n",
       "                                      text_processed  \\\n",
       "0  ['сделала', 'заявку', 'перенос', 'даты', 'плат...   \n",
       "1  ['сталкнулся', 'проблемой', 'переводе', 'денег...   \n",
       "2  ['число', 'пытался', 'перевести', 'деньги', 'д...   \n",
       "\n",
       "                                              lemmas  \\\n",
       "0  [сделать, заявка, перенос, дата, платеж, прило...   \n",
       "1  [проблема, перевод, деньги, заблокировать, опе...   \n",
       "2  [пытаться, перевести, деньги, дебетовый, карта...   \n",
       "\n",
       "                                    lemmas_with_tags  category_map  \n",
       "0  [сделать_VERB, заявка_NOUN, перенос_NOUN, дата...             1  \n",
       "1  [сталкнуться_VERB, проблема_NOUN, перевод_NOUN...             1  \n",
       "2  [число_NOUN, пытаться_VERB, перевести_VERB, де...             1  "
      ]
     },
     "execution_count": 2,
     "metadata": {},
     "output_type": "execute_result"
    }
   ],
   "source": [
    "data = pd.read_csv('./Вспомогательные файлы/dataset_for_modeling.csv')\n",
    "\n",
    "categories = list(data['category'].unique())\n",
    "category_mapping = {category: i + 1 for i, category in enumerate(categories)}\n",
    "\n",
    "data['category_map'] = data['category'].map(category_mapping)\n",
    "\n",
    "data['lemmas'] = data['lemmas'].str.replace(r'[\\[\\],\\']', '').str.split()\n",
    "data['lemmas_with_tags'] = data['lemmas_with_tags'].str.replace(r'[\\[\\],\\']', '').str.split()\n",
    "data.head(3)"
   ]
  },
  {
   "cell_type": "code",
   "execution_count": 3,
   "id": "3a29286e",
   "metadata": {
    "ExecuteTime": {
     "end_time": "2024-06-15T15:27:16.491005Z",
     "start_time": "2024-06-15T15:27:16.465736Z"
    }
   },
   "outputs": [
    {
     "name": "stdout",
     "output_type": "stream",
     "text": [
      "Train data shape: (11172, 14)\n",
      "Validation data shape: (4788, 14)\n"
     ]
    }
   ],
   "source": [
    "train_data, valid_data = train_test_split(data, test_size=0.3, stratify=data['category'])\n",
    "\n",
    "print(\"Train data shape:\", train_data.shape)\n",
    "print(\"Validation data shape:\", valid_data.shape)\n"
   ]
  },
  {
   "cell_type": "markdown",
   "id": "da981f39",
   "metadata": {
    "heading_collapsed": true
   },
   "source": [
    "# Классификатор тональности"
   ]
  },
  {
   "cell_type": "code",
   "execution_count": 6,
   "id": "d72a1ffd",
   "metadata": {
    "ExecuteTime": {
     "end_time": "2024-06-15T15:22:26.650022Z",
     "start_time": "2024-06-15T15:22:26.647429Z"
    },
    "hidden": true
   },
   "outputs": [],
   "source": [
    "sentiment_classifier = SentimentClassifier(train_data['lemmas'], train_data['grade'])"
   ]
  },
  {
   "cell_type": "markdown",
   "id": "766262ce",
   "metadata": {
    "hidden": true
   },
   "source": [
    "Лучшая модель - __TF-IDF + SVM__"
   ]
  },
  {
   "cell_type": "markdown",
   "id": "e78f8e9c",
   "metadata": {
    "heading_collapsed": true,
    "hidden": true
   },
   "source": [
    "## Bag of words"
   ]
  },
  {
   "cell_type": "markdown",
   "id": "b0334682",
   "metadata": {
    "ExecuteTime": {
     "end_time": "2024-05-12T13:13:42.093284Z",
     "start_time": "2024-05-12T13:13:42.090790Z"
    },
    "heading_collapsed": true,
    "hidden": true
   },
   "source": [
    "### Логрег"
   ]
  },
  {
   "cell_type": "code",
   "execution_count": 5,
   "id": "3a358946",
   "metadata": {
    "ExecuteTime": {
     "end_time": "2024-06-15T15:22:21.240065Z",
     "start_time": "2024-06-15T15:22:20.280386Z"
    },
    "hidden": true
   },
   "outputs": [
    {
     "name": "stdout",
     "output_type": "stream",
     "text": [
      "ROC AUC Score: 0.979\n",
      "Precision: 0.963\n",
      "Recall: 0.964\n",
      "Accuracy: 0.946\n"
     ]
    },
    {
     "data": {
      "image/png": "[encoded data removed]",
      "text/plain": [
       "<Figure size 576x432 with 2 Axes>"
      ]
     },
     "metadata": {
      "needs_background": "light"
     },
     "output_type": "display_data"
    }
   ],
   "source": [
    "task_type = 'bag_of_words'\n",
    "classifier_name = 'logreg'\n",
    "\n",
    "sentiment_classifier.fit_classifier(task_type=task_type, classifier_name=classifier_name)\n",
    "sentiment_classifier.evaluate_model(valid_data['lemmas'], valid_data['grade'], task_type=task_type, classifier_name=classifier_name)\n"
   ]
  },
  {
   "cell_type": "markdown",
   "id": "3d9153cf",
   "metadata": {
    "heading_collapsed": true,
    "hidden": true
   },
   "source": [
    "### SVM"
   ]
  },
  {
   "cell_type": "code",
   "execution_count": 21,
   "id": "acb43827",
   "metadata": {
    "ExecuteTime": {
     "end_time": "2024-06-14T14:23:49.360338Z",
     "start_time": "2024-06-14T14:21:32.973363Z"
    },
    "hidden": true
   },
   "outputs": [
    {
     "name": "stdout",
     "output_type": "stream",
     "text": [
      "ROC AUC Score: 0.983\n",
      "Precision: 0.967\n",
      "Recall: 0.957\n",
      "Accuracy: 0.944\n"
     ]
    },
    {
     "data": {
      "image/png": "[encoded data removed]",
      "text/plain": [
       "<Figure size 576x432 with 2 Axes>"
      ]
     },
     "metadata": {
      "needs_background": "light"
     },
     "output_type": "display_data"
    }
   ],
   "source": [
    "task_type = 'bag_of_words'\n",
    "classifier_name = 'svm'\n",
    "\n",
    "sentiment_classifier.fit_classifier(task_type=task_type, classifier_name=classifier_name)\n",
    "sentiment_classifier.evaluate_model(valid_data['lemmas'], valid_data['grade'], task_type=task_type, classifier_name=classifier_name)\n"
   ]
  },
  {
   "cell_type": "markdown",
   "id": "fe916d23",
   "metadata": {
    "heading_collapsed": true,
    "hidden": true
   },
   "source": [
    "## tf-idf"
   ]
  },
  {
   "cell_type": "markdown",
   "id": "4cb60e66",
   "metadata": {
    "heading_collapsed": true,
    "hidden": true
   },
   "source": [
    "### Логрег"
   ]
  },
  {
   "cell_type": "code",
   "execution_count": 22,
   "id": "b10de541",
   "metadata": {
    "ExecuteTime": {
     "end_time": "2024-06-14T14:24:05.665416Z",
     "start_time": "2024-06-14T14:24:04.784580Z"
    },
    "hidden": true
   },
   "outputs": [
    {
     "name": "stdout",
     "output_type": "stream",
     "text": [
      "ROC AUC Score: 0.985\n",
      "Precision: 0.961\n",
      "Recall: 0.968\n",
      "Accuracy: 0.948\n"
     ]
    },
    {
     "data": {
      "image/png": "[encoded data removed]",
      "text/plain": [
       "<Figure size 576x432 with 2 Axes>"
      ]
     },
     "metadata": {
      "needs_background": "light"
     },
     "output_type": "display_data"
    }
   ],
   "source": [
    "task_type = 'tfidf'\n",
    "classifier_name = 'logreg'\n",
    "\n",
    "sentiment_classifier.fit_classifier(task_type=task_type, classifier_name=classifier_name)\n",
    "sentiment_classifier.evaluate_model(valid_data['lemmas'], valid_data['grade'], task_type=task_type, classifier_name=classifier_name)\n"
   ]
  },
  {
   "cell_type": "markdown",
   "id": "20212daf",
   "metadata": {
    "heading_collapsed": true,
    "hidden": true
   },
   "source": [
    "### SVM"
   ]
  },
  {
   "cell_type": "code",
   "execution_count": 7,
   "id": "2abac391",
   "metadata": {
    "ExecuteTime": {
     "end_time": "2024-06-15T15:24:50.879217Z",
     "start_time": "2024-06-15T15:22:38.967789Z"
    },
    "hidden": true
   },
   "outputs": [
    {
     "name": "stdout",
     "output_type": "stream",
     "text": [
      "ROC AUC Score: 0.985\n",
      "Precision: 0.978\n",
      "Recall: 0.961\n",
      "Accuracy: 0.954\n"
     ]
    },
    {
     "data": {
      "image/png": "[encoded data removed]",
      "text/plain": [
       "<Figure size 576x432 with 2 Axes>"
      ]
     },
     "metadata": {
      "needs_background": "light"
     },
     "output_type": "display_data"
    }
   ],
   "source": [
    "task_type = 'tfidf'\n",
    "classifier_name = 'svm'\n",
    "\n",
    "sentiment_classifier.fit_classifier(task_type=task_type, classifier_name=classifier_name)\n",
    "sentiment_classifier.evaluate_model(valid_data['lemmas'], valid_data['grade'], task_type=task_type, classifier_name=classifier_name)\n"
   ]
  },
  {
   "cell_type": "markdown",
   "id": "75b71eeb",
   "metadata": {
    "heading_collapsed": true,
    "hidden": true
   },
   "source": [
    "### Бустинг"
   ]
  },
  {
   "cell_type": "code",
   "execution_count": 23,
   "id": "d52d291d",
   "metadata": {
    "ExecuteTime": {
     "end_time": "2024-06-14T14:25:34.535773Z",
     "start_time": "2024-06-14T14:24:11.955900Z"
    },
    "hidden": true
   },
   "outputs": [
    {
     "name": "stdout",
     "output_type": "stream",
     "text": [
      "ROC AUC Score: 0.985\n",
      "Precision: 0.958\n",
      "Recall: 0.966\n",
      "Accuracy: 0.944\n"
     ]
    },
    {
     "data": {
      "image/png": "[encoded data removed]",
      "text/plain": [
       "<Figure size 576x432 with 2 Axes>"
      ]
     },
     "metadata": {
      "needs_background": "light"
     },
     "output_type": "display_data"
    }
   ],
   "source": [
    "task_type = 'tfidf'\n",
    "classifier_name = 'catboost'\n",
    "\n",
    "sentiment_classifier.fit_classifier(task_type=task_type, classifier_name=classifier_name)\n",
    "sentiment_classifier.evaluate_model(valid_data['lemmas'], valid_data['grade'], task_type=task_type, classifier_name=classifier_name)\n"
   ]
  },
  {
   "cell_type": "markdown",
   "id": "cf039ac3",
   "metadata": {
    "heading_collapsed": true,
    "hidden": true
   },
   "source": [
    "## FastText (simple mean strategy)"
   ]
  },
  {
   "cell_type": "markdown",
   "id": "72416753",
   "metadata": {
    "heading_collapsed": true,
    "hidden": true
   },
   "source": [
    "### Логрег"
   ]
  },
  {
   "cell_type": "code",
   "execution_count": 25,
   "id": "1d3f75bb",
   "metadata": {
    "ExecuteTime": {
     "end_time": "2024-06-14T14:26:12.281676Z",
     "start_time": "2024-06-14T14:26:07.433564Z"
    },
    "hidden": true
   },
   "outputs": [],
   "source": [
    "ft_path = '/Users/r.kushkhabiev/Учеба/ИПС/model.model'\n",
    "ft_model = FastTextKeyedVectors.load(ft_path)"
   ]
  },
  {
   "cell_type": "code",
   "execution_count": 36,
   "id": "d713b8ef",
   "metadata": {
    "ExecuteTime": {
     "end_time": "2024-06-14T14:36:16.519896Z",
     "start_time": "2024-06-14T14:36:12.185655Z"
    },
    "hidden": true
   },
   "outputs": [
    {
     "name": "stdout",
     "output_type": "stream",
     "text": [
      "ROC AUC Score: 0.977\n",
      "Precision: 0.963\n",
      "Recall: 0.951\n",
      "Accuracy: 0.938\n"
     ]
    },
    {
     "data": {
      "image/png": "[encoded data removed]",
      "text/plain": [
       "<Figure size 576x432 with 2 Axes>"
      ]
     },
     "metadata": {
      "needs_background": "light"
     },
     "output_type": "display_data"
    }
   ],
   "source": [
    "task_type = 'mean_embedding_vectorizer'\n",
    "classifier_name = 'logreg'\n",
    "embedding_vectorizer = ft_model\n",
    "\n",
    "sentiment_classifier.fit_classifier(task_type=task_type, classifier_name=classifier_name, embedding_vectorizer = embedding_vectorizer)\n",
    "sentiment_classifier.evaluate_model(valid_data['lemmas'], valid_data['grade'], task_type=task_type, classifier_name=classifier_name)\n"
   ]
  },
  {
   "cell_type": "markdown",
   "id": "7c987a0f",
   "metadata": {
    "heading_collapsed": true,
    "hidden": true
   },
   "source": [
    "### Boosting"
   ]
  },
  {
   "cell_type": "code",
   "execution_count": 37,
   "id": "e57ddec6",
   "metadata": {
    "ExecuteTime": {
     "end_time": "2024-06-14T14:37:39.683047Z",
     "start_time": "2024-06-14T14:37:10.891818Z"
    },
    "hidden": true
   },
   "outputs": [
    {
     "name": "stdout",
     "output_type": "stream",
     "text": [
      "ROC AUC Score: 0.981\n",
      "Precision: 0.964\n",
      "Recall: 0.957\n",
      "Accuracy: 0.942\n"
     ]
    },
    {
     "data": {
      "image/png": "[encoded data removed]",
      "text/plain": [
       "<Figure size 576x432 with 2 Axes>"
      ]
     },
     "metadata": {
      "needs_background": "light"
     },
     "output_type": "display_data"
    }
   ],
   "source": [
    "task_type = 'mean_embedding_vectorizer'\n",
    "classifier_name = 'catboost'\n",
    "embedding_vectorizer = ft_model\n",
    "\n",
    "sentiment_classifier.fit_classifier(task_type=task_type, classifier_name=classifier_name, embedding_vectorizer = embedding_vectorizer)\n",
    "sentiment_classifier.evaluate_model(valid_data['lemmas'], valid_data['grade'], task_type=task_type, classifier_name=classifier_name)\n"
   ]
  },
  {
   "cell_type": "markdown",
   "id": "3db12ef2",
   "metadata": {
    "heading_collapsed": true,
    "hidden": true
   },
   "source": [
    "## FastText (tf-idf weighted strategy)"
   ]
  },
  {
   "cell_type": "code",
   "execution_count": 42,
   "id": "57afdaa7",
   "metadata": {
    "ExecuteTime": {
     "end_time": "2024-06-14T14:39:43.129774Z",
     "start_time": "2024-06-14T14:39:34.599899Z"
    },
    "hidden": true
   },
   "outputs": [
    {
     "name": "stdout",
     "output_type": "stream",
     "text": [
      "ROC AUC Score: 0.975\n",
      "Precision: 0.958\n",
      "Recall: 0.948\n",
      "Accuracy: 0.931\n"
     ]
    },
    {
     "data": {
      "image/png": "[encoded data removed]",
      "text/plain": [
       "<Figure size 576x432 with 2 Axes>"
      ]
     },
     "metadata": {
      "needs_background": "light"
     },
     "output_type": "display_data"
    }
   ],
   "source": [
    "task_type = 'tfidf_embedding_vectorizer'\n",
    "classifier_name = 'logreg'\n",
    "embedding_vectorizer = ft_model\n",
    "\n",
    "sentiment_classifier.fit_classifier(task_type=task_type, classifier_name=classifier_name, embedding_vectorizer = embedding_vectorizer)\n",
    "sentiment_classifier.evaluate_model(valid_data['lemmas'], valid_data['grade'], task_type=task_type, classifier_name=classifier_name)\n"
   ]
  },
  {
   "cell_type": "markdown",
   "id": "87405a56",
   "metadata": {
    "heading_collapsed": true,
    "hidden": true
   },
   "source": [
    "## Word2vec"
   ]
  },
  {
   "cell_type": "code",
   "execution_count": 44,
   "id": "a04ba01f",
   "metadata": {
    "ExecuteTime": {
     "end_time": "2024-06-14T14:41:07.705484Z",
     "start_time": "2024-06-14T14:41:04.793964Z"
    },
    "hidden": true
   },
   "outputs": [],
   "source": [
    "word2vec_path = '/Users/r.kushkhabiev/Учеба/ИПС/word2vec.bin'\n",
    "word2vec_model = KeyedVectors.load_word2vec_format(datapath(word2vec_path), binary=True)\n",
    "sentiment_classifier_TAGS = SentimentClassifier(train_data['lemmas_with_tags'], train_data['grade'])"
   ]
  },
  {
   "cell_type": "code",
   "execution_count": 48,
   "id": "e24ea5c8",
   "metadata": {
    "ExecuteTime": {
     "end_time": "2024-06-14T14:44:33.723651Z",
     "start_time": "2024-06-14T14:44:06.006254Z"
    },
    "hidden": true
   },
   "outputs": [
    {
     "name": "stdout",
     "output_type": "stream",
     "text": [
      "ROC AUC Score: 0.975\n",
      "Precision: 0.949\n",
      "Recall: 0.956\n",
      "Accuracy: 0.930\n"
     ]
    },
    {
     "data": {
      "image/png": "[encoded data removed]",
      "text/plain": [
       "<Figure size 576x432 with 2 Axes>"
      ]
     },
     "metadata": {
      "needs_background": "light"
     },
     "output_type": "display_data"
    }
   ],
   "source": [
    "task_type = 'mean_embedding_vectorizer'\n",
    "classifier_name = 'catboost'\n",
    "embedding_vectorizer = word2vec_model\n",
    "\n",
    "sentiment_classifier_TAGS.fit_classifier(task_type=task_type, classifier_name=classifier_name, embedding_vectorizer = embedding_vectorizer)\n",
    "sentiment_classifier_TAGS.evaluate_model(valid_data['lemmas_with_tags'], valid_data['grade'], task_type=task_type, classifier_name=classifier_name)\n"
   ]
  },
  {
   "cell_type": "markdown",
   "id": "92021680",
   "metadata": {
    "hidden": true
   },
   "source": [
    "## Выгружаем модель"
   ]
  },
  {
   "cell_type": "code",
   "execution_count": 8,
   "id": "19677aa9",
   "metadata": {
    "ExecuteTime": {
     "end_time": "2024-06-15T15:25:01.339720Z",
     "start_time": "2024-06-15T15:25:01.062937Z"
    },
    "hidden": true
   },
   "outputs": [],
   "source": [
    "with open('./Вспомогательные файлы/sentiment_classifier.pkl', 'wb') as f:\n",
    "    pickle.dump(sentiment_classifier, f)"
   ]
  },
  {
   "cell_type": "markdown",
   "id": "f1bac6bb",
   "metadata": {},
   "source": [
    "# Тематическое моделирование"
   ]
  },
  {
   "cell_type": "markdown",
   "id": "ec7ce305",
   "metadata": {
    "heading_collapsed": true
   },
   "source": [
    "## Подбор параметра num_topics \n",
    "### Тут пробуем искать темы на всём датасете без каких-либо делений на категории или сентимент\n",
    "### Впоследствии было решено что подход такой себе, поэтому раздел необязательный\n"
   ]
  },
  {
   "cell_type": "code",
   "execution_count": 96,
   "id": "c1bcb01b",
   "metadata": {
    "ExecuteTime": {
     "end_time": "2024-05-12T15:32:30.715165Z",
     "start_time": "2024-05-12T15:32:29.459650Z"
    },
    "hidden": true
   },
   "outputs": [],
   "source": [
    "X_train = train_data['lemmas'].values\n",
    "dictionary = corpora.Dictionary(X_train)\n",
    "corpus = [dictionary.doc2bow(text) for text in X_train]"
   ]
  },
  {
   "cell_type": "code",
   "execution_count": 49,
   "id": "41a2377d",
   "metadata": {
    "ExecuteTime": {
     "end_time": "2024-06-15T08:44:55.369338Z",
     "start_time": "2024-06-15T08:44:55.329541Z"
    },
    "hidden": true
   },
   "outputs": [],
   "source": [
    "min_topics = 3\n",
    "max_topics = 25\n",
    "\n",
    "model_results = {'Topics': [],\n",
    "                 'Perplexity': [],\n",
    "                 'Coherence': []}\n",
    "\n",
    "for num_topics in range(min_topics, max_topics + 1):\n",
    "    lda_model = LdaModel(corpus=corpus,\n",
    "                            id2word=dictionary,\n",
    "                            num_topics=num_topics,\n",
    "                            random_state=100,\n",
    "                            update_every=1,\n",
    "                            chunksize=100,\n",
    "                            passes=10,\n",
    "                            alpha='symmetric',\n",
    "                            per_word_topics=True)\n",
    "\n",
    "    perplexity = lda_model.log_perplexity(corpus)\n",
    "\n",
    "    coherence_model_lda = CoherenceModel(model=lda_model, texts = X_train, corpus = corpus, dictionary=dictionary, coherence='c_v')\n",
    "    coherence_lda = coherence_model_lda.get_coherence()\n",
    "    model_results['Topics'].append(num_topics)\n",
    "    model_results['Perplexity'].append(perplexity)\n",
    "    model_results['Coherence'].append(coherence_lda)\n",
    "\n",
    "    print(f\"Num Topics: {num_topics:.3f}, Perplexity: {perplexity:.3f}, Coherence: {coherence_lda:.3f}\")"
   ]
  },
  {
   "cell_type": "markdown",
   "id": "4843eb24",
   "metadata": {
    "heading_collapsed": true,
    "hidden": true
   },
   "source": [
    "### Анализируем модель [не нужно]"
   ]
  },
  {
   "cell_type": "code",
   "execution_count": 93,
   "id": "66b6c852",
   "metadata": {
    "ExecuteTime": {
     "end_time": "2024-05-12T14:36:54.270204Z",
     "start_time": "2024-05-12T14:36:07.318062Z"
    },
    "hidden": true
   },
   "outputs": [],
   "source": [
    "lda_model = LdaModel(corpus=corpus,\n",
    "                        id2word=dictionary,\n",
    "                        num_topics=num_topics,\n",
    "                        random_state=100,\n",
    "                        update_every=1,\n",
    "                        chunksize=100,\n",
    "                        passes=10,\n",
    "                        alpha='symmetric',\n",
    "                        per_word_topics=True)"
   ]
  },
  {
   "cell_type": "code",
   "execution_count": 94,
   "id": "9ced8e77",
   "metadata": {
    "ExecuteTime": {
     "end_time": "2024-05-12T14:37:08.223207Z",
     "start_time": "2024-05-12T14:37:08.212370Z"
    },
    "hidden": true
   },
   "outputs": [
    {
     "name": "stdout",
     "output_type": "stream",
     "text": [
      "Тема 1:\n",
      "(0, '0.178*\"ипотека\" + 0.107*\"менеджер\" + 0.097*\"сделка\" + 0.083*\"документ\" + 0.040*\"квартира\" + 0.026*\"наш\" + 0.026*\"регистрация\" + 0.026*\"одобрение\" + 0.023*\"дом\" + 0.022*\"страховой\"')\n",
      "\n",
      "\n",
      "Тема 2:\n",
      "(1, '0.067*\"точка\" + 0.063*\"кешбэк\" + 0.060*\"елена\" + 0.058*\"абсолютно\" + 0.045*\"напоминать\" + 0.035*\"плохой\" + 0.032*\"соглашение\" + 0.026*\"ипать\" + 0.025*\"валерий\" + 0.018*\"звезда\"')\n",
      "\n",
      "\n",
      "Тема 3:\n",
      "(2, '0.099*\"вопрос\" + 0.087*\"чат\" + 0.075*\"отвечать\" + 0.053*\"поддержка\" + 0.051*\"оператор\" + 0.045*\"ответ\" + 0.031*\"решать\" + 0.023*\"уточнять\" + 0.021*\"онлайн\" + 0.021*\"написать\"')\n",
      "\n",
      "\n",
      "Тема 4:\n",
      "(3, '0.057*\"банк\" + 0.032*\"кредит\" + 0.028*\"день\" + 0.023*\"платеж\" + 0.021*\"обращение\" + 0.020*\"не\" + 0.019*\"сотрудник\" + 0.018*\"договор\" + 0.015*\"мой\" + 0.012*\"линия\"')\n",
      "\n",
      "\n",
      "Тема 5:\n",
      "(4, '0.292*\"карта\" + 0.055*\"покупка\" + 0.054*\"пользоваться\" + 0.041*\"халва\" + 0.034*\"акция\" + 0.032*\"дебетовый\" + 0.030*\"кэшбэк\" + 0.026*\"рассрочка\" + 0.019*\"бонус\" + 0.018*\"кэшбек\"')\n",
      "\n",
      "\n",
      "Тема 6:\n",
      "(5, '0.000*\"ьретий\" + 0.000*\"упс\" + 0.000*\"незвонить\" + 0.000*\"каторой\" + 0.000*\"ездевать\" + 0.000*\"горячать\" + 0.000*\"гавриловпосад\" + 0.000*\"гбийск\" + 0.000*\"васильев\" + 0.000*\"57а\"')\n",
      "\n",
      "\n",
      "Тема 7:\n",
      "(6, '0.078*\"приложение\" + 0.051*\"счет\" + 0.046*\"вклад\" + 0.037*\"свой\" + 0.026*\"мобильный\" + 0.024*\"открывать\" + 0.023*\"это\" + 0.020*\"совкомбанк\" + 0.019*\"мой\" + 0.019*\"мочь\"')\n",
      "\n",
      "\n",
      "Тема 8:\n",
      "(7, '0.202*\"быстрый\" + 0.083*\"воспользоваться\" + 0.066*\"росбанк\" + 0.031*\"удовольствие\" + 0.028*\"полезный\" + 0.024*\"скачать\" + 0.018*\"налоговый\" + 0.015*\"чатбот\" + 0.013*\"занятый\" + 0.009*\"легкость\"')\n",
      "\n",
      "\n",
      "Тема 9:\n",
      "(8, '0.322*\"комиссия\" + 0.039*\"русский\" + 0.037*\"выручать\" + 0.037*\"стандарт\" + 0.029*\"колл\" + 0.027*\"молодец\" + 0.016*\"убыток\" + 0.014*\"позитивный\" + 0.002*\"перевод\" + 0.000*\"тюмень\"')\n",
      "\n",
      "\n",
      "Тема 10:\n",
      "(9, '0.131*\"не\" + 0.038*\"банк\" + 0.036*\")\" + 0.025*\"это\" + 0.017*\"который\" + 0.017*\"сказать\" + 0.015*\"нет\" + 0.013*\"день\" + 0.013*\"время\" + 0.012*\"приходить\"')\n",
      "\n",
      "\n",
      "Тема 11:\n",
      "(10, '0.060*\"банк\" + 0.038*\"очень\" + 0.032*\"сотрудник\" + 0.019*\"помогать\" + 0.017*\"спасибо\" + 0.017*\"офис\" + 0.017*\"быстро\" + 0.017*\"хотеть\" + 0.017*\"обращаться\" + 0.016*\"вопрос\"')\n",
      "\n",
      "\n",
      "Тема 12:\n",
      "(11, '0.113*\"заявка\" + 0.052*\"заявление\" + 0.039*\"одобрять\" + 0.034*\"документ\" + 0.032*\"ипотечный\" + 0.026*\"подавать\" + 0.026*\"приезжать\" + 0.026*\"представитель\" + 0.025*\"залог\" + 0.024*\"подписывать\"')\n",
      "\n",
      "\n",
      "Тема 13:\n",
      "(12, '0.268*\"номер\" + 0.040*\"закладная\" + 0.039*\"состояние\" + 0.036*\"перенести\" + 0.032*\"обременение\" + 0.024*\"сильно\" + 0.024*\"хватать\" + 0.020*\"млн\" + 0.018*\"мск\" + 0.016*\"перенос\"')\n",
      "\n",
      "\n",
      "Тема 14:\n",
      "(13, '0.173*\"тинькофф\" + 0.100*\"рука\" + 0.048*\"низкий\" + 0.030*\"снижение\" + 0.023*\"связанный\" + 0.019*\"отключение\" + 0.018*\"соответствие\" + 0.014*\"шикарный\" + 0.013*\"консультирование\" + 0.008*\"приз\"')\n",
      "\n",
      "\n",
      "Тема 15:\n",
      "(14, '0.298*\"число\" + 0.035*\"год\" + 0.031*\"месяц\" + 0.030*\"условие\" + 0.024*\"процент\" + 0.022*\"ставка\" + 0.021*\"сумма\" + 0.016*\"рубль\" + 0.015*\"декабрь\" + 0.011*\"ноябрь\"')\n",
      "\n",
      "\n"
     ]
    }
   ],
   "source": [
    "top_words_per_topic = lda_model.print_topics(num_words=10)\n",
    "for topic_number, topic in enumerate(top_words_per_topic):\n",
    "    print(f\"Тема {topic_number + 1}:\")\n",
    "    print(topic)\n",
    "    print(\"\\n\")"
   ]
  },
  {
   "cell_type": "markdown",
   "id": "09425486",
   "metadata": {
    "ExecuteTime": {
     "end_time": "2024-05-12T15:45:07.271970Z",
     "start_time": "2024-05-12T15:45:07.149466Z"
    },
    "hidden": true
   },
   "source": [
    "- pyLDAvis.enable_notebook(local = True)\n",
    "- visualization = pyLDAvis.gensim_models.prepare(lda_model, corpus, dictionary, sort_topics=False)\n",
    "- pyLDAvis.display(visualization)\n",
    "\n",
    "код для колаба"
   ]
  },
  {
   "cell_type": "markdown",
   "id": "31782b20",
   "metadata": {
    "ExecuteTime": {
     "end_time": "2024-05-12T16:25:44.894967Z",
     "start_time": "2024-05-12T16:25:44.889682Z"
    },
    "heading_collapsed": true
   },
   "source": [
    "## Для каждой категории попытаемся найти 5 тем отдельно для класса 1, отдельно для 0"
   ]
  },
  {
   "cell_type": "code",
   "execution_count": 348,
   "id": "c1ec699f",
   "metadata": {
    "ExecuteTime": {
     "end_time": "2024-05-13T14:00:40.019020Z",
     "start_time": "2024-05-13T13:59:43.853257Z"
    },
    "hidden": true
   },
   "outputs": [],
   "source": [
    "num_topics = 5\n",
    "category_models = dict([])\n",
    "categories = list(data['category'].unique())\n",
    "grades = [0, 1]\n",
    "common_dictionary = corpora.Dictionary(data['lemmas'])\n",
    "\n",
    "for cat in categories:\n",
    "    category_models[cat] = {0 : {'dictionary' : common_dictionary,\n",
    "                                    'lda_model' : None},\n",
    "                            1 : {'dictionary' : common_dictionary,\n",
    "                                    'lda_model' : None}}\n",
    "\n",
    "for category in categories: \n",
    "    for grade in grades:\n",
    "        local_dataset = data.loc[(data['category'] == category) & (data['grade'] == grade), 'lemmas'].values\n",
    "        local_corpus = [common_dictionary.doc2bow(text) for text in local_dataset]\n",
    "        category_models[category][grade]['lda_model'] = LdaModel(corpus=local_corpus,\n",
    "                                id2word=common_dictionary,\n",
    "                                num_topics=num_topics,\n",
    "                                random_state=100,\n",
    "                                update_every=1,\n",
    "                                chunksize=100,\n",
    "                                passes=10,\n",
    "                                alpha='symmetric',\n",
    "                                per_word_topics=True)\n"
   ]
  },
  {
   "cell_type": "markdown",
   "id": "1bc7e162",
   "metadata": {
    "hidden": true
   },
   "source": [
    "### Сохраняем модель"
   ]
  },
  {
   "cell_type": "code",
   "execution_count": 350,
   "id": "d1cce499",
   "metadata": {
    "ExecuteTime": {
     "end_time": "2024-05-13T14:01:13.607007Z",
     "start_time": "2024-05-13T14:01:13.579619Z"
    },
    "hidden": true
   },
   "outputs": [],
   "source": [
    "with open('./Вспомогательные файлы/category_models.pkl', 'wb') as f:\n",
    "    pickle.dump(category_models, f)"
   ]
  },
  {
   "cell_type": "markdown",
   "id": "6836e3c5",
   "metadata": {
    "hidden": true
   },
   "source": [
    "### Анализируем темы"
   ]
  },
  {
   "cell_type": "code",
   "execution_count": 301,
   "id": "c6b965a2",
   "metadata": {
    "ExecuteTime": {
     "end_time": "2024-05-12T20:27:11.761612Z",
     "start_time": "2024-05-12T20:27:11.757676Z"
    },
    "hidden": true
   },
   "outputs": [],
   "source": [
    "def show_themes(category: str, grade: int) -> None:\n",
    "    top_words_per_topic = category_models[category][grade]['lda_model'].print_topics(num_words=10)\n",
    "    for topic_number, topic in enumerate(top_words_per_topic):\n",
    "        print(f\"Тема {topic_number + 1}:\")\n",
    "        print(topic)\n",
    "        print(\"\\n\")\n",
    "        "
   ]
  },
  {
   "cell_type": "code",
   "execution_count": 351,
   "id": "3bb7c2ab",
   "metadata": {
    "ExecuteTime": {
     "end_time": "2024-05-13T14:03:17.772255Z",
     "start_time": "2024-05-13T14:03:17.765008Z"
    },
    "hidden": true
   },
   "outputs": [
    {
     "name": "stdout",
     "output_type": "stream",
     "text": [
      "Тема 1:\n",
      "(0, '0.034*\"услуга\" + 0.027*\"кредит\" + 0.023*\"не\" + 0.023*\"договор\" + 0.017*\"ставка\" + 0.014*\")\" + 0.012*\"страховка\" + 0.012*\"возврат\" + 0.012*\"оформление\" + 0.011*\"средство\"')\n",
      "\n",
      "\n",
      "Тема 2:\n",
      "(1, '0.055*\"не\" + 0.013*\"заявка\" + 0.013*\"сотрудник\" + 0.011*\"кредит\" + 0.009*\"документ\" + 0.009*\"сказать\" + 0.009*\"автокредит\" + 0.009*\")\" + 0.008*\"ответ\" + 0.008*\"обращение\"')\n",
      "\n",
      "\n",
      "Тема 3:\n",
      "(2, '0.043*\"не\" + 0.023*\"платеж\" + 0.020*\"кредит\" + 0.019*\"сумма\" + 0.017*\"погашение\" + 0.016*\"деньги\" + 0.014*\"счет\" + 0.012*\")\" + 0.011*\"досрочный\" + 0.008*\"карта\"')\n",
      "\n",
      "\n",
      "Тема 4:\n",
      "(3, '0.041*\"залог\" + 0.025*\"автомобиль\" + 0.016*\"снимать\" + 0.016*\"втб\" + 0.015*\"снятие\" + 0.014*\"авто\" + 0.013*\"справка\" + 0.011*\"информация\" + 0.010*\"год\" + 0.010*\"обременение\"')\n",
      "\n",
      "\n",
      "Тема 5:\n",
      "(4, '0.031*\"условие\" + 0.024*\"не\" + 0.021*\"сумма\" + 0.018*\"рубль\" + 0.018*\"платеж\" + 0.015*\"рассрочка\" + 0.013*\"месяц\" + 0.012*\"тыс\" + 0.011*\"совкомбанк\" + 0.011*\"халва\"')\n",
      "\n",
      "\n"
     ]
    }
   ],
   "source": [
    "show_themes(category = 'autocredits', grade = 0)"
   ]
  },
  {
   "cell_type": "markdown",
   "id": "a7e43a01",
   "metadata": {
    "hidden": true
   },
   "source": [
    "Негативные отзывы об автокредитах:\n",
    "\n",
    "- Тема 1: Неудовлетворительные условия кредитования (высокие ставки, сложности с оформлением договора, услугой страхования и возвратом средств)\n",
    "\n",
    "- Тема 2: Проблемы с процессом обращения и обработки заявки (проблемы с заполнением документов, общением с сотрудниками банка, получением ответов на запросы или в целом с обработкой заявки на кредит)\n",
    "\n",
    "- Тема 3: Проблемы с платежами и погашением кредита (трудности с определением суммы платежа, задержками или неправильными списаниями средств, сложности с досрочным погашением)\n",
    "\n",
    "- Тема 4: Проблемы с залогом и автомобилем (трудности с оценкой или снятием залога, проблемы с автомобилем, связанные с документами,сложности с получением информации или справок от банка)\n",
    "\n",
    "- Тема 5: Недовольство условиями и суммой платежей (проблемы с условиями кредита, неудовлетворительные условия рассрочки, недовольство суммой ежемесячных платежей)"
   ]
  },
  {
   "cell_type": "code",
   "execution_count": 352,
   "id": "57a48eb1",
   "metadata": {
    "ExecuteTime": {
     "end_time": "2024-05-13T14:03:21.329645Z",
     "start_time": "2024-05-13T14:03:21.324867Z"
    },
    "hidden": true
   },
   "outputs": [
    {
     "name": "stdout",
     "output_type": "stream",
     "text": [
      "Тема 1:\n",
      "(0, '0.040*\"сотрудник\" + 0.027*\"спасибо\" + 0.018*\"благодарность\" + 0.017*\"выражать\" + 0.016*\"обращаться\" + 0.015*\"клиент\" + 0.014*\"огромный\" + 0.013*\"штраф\" + 0.013*\"хотеть\" + 0.012*\"решение\"')\n",
      "\n",
      "\n",
      "Тема 2:\n",
      "(1, '0.025*\"автокредит\" + 0.025*\"кредит\" + 0.023*\"очень\" + 0.019*\"условие\" + 0.015*\"автомобиль\" + 0.015*\"быстро\" + 0.013*\"не\" + 0.013*\"оформлять\" + 0.011*\"все\" + 0.009*\"оформление\"')\n",
      "\n",
      "\n",
      "Тема 3:\n",
      "(2, '0.047*\"не\" + 0.024*\"месяц\" + 0.021*\"условие\" + 0.018*\"сумма\" + 0.017*\"платеж\" + 0.012*\"ставка\" + 0.011*\"карта\" + 0.010*\"выполнять\" + 0.009*\")\" + 0.008*\"договор\"')\n",
      "\n",
      "\n",
      "Тема 4:\n",
      "(3, '0.047*\"кредит\" + 0.021*\"не\" + 0.020*\"закрывать\" + 0.016*\"автокредит\" + 0.013*\"погашение\" + 0.012*\"деньги\" + 0.011*\"приложение\" + 0.010*\"досрочный\" + 0.010*\"досрочно\" + 0.009*\"решать\"')\n",
      "\n",
      "\n",
      "Тема 5:\n",
      "(4, '0.035*\"карта\" + 0.027*\"не\" + 0.025*\"пользоваться\" + 0.023*\")\" + 0.016*\"год\" + 0.016*\"процент\" + 0.016*\"хороший\" + 0.013*\"рассрочка\" + 0.011*\"советовать\" + 0.011*\"халва\"')\n",
      "\n",
      "\n"
     ]
    }
   ],
   "source": [
    "show_themes(category = 'autocredits', grade = 1)"
   ]
  },
  {
   "cell_type": "markdown",
   "id": "92f03ef1",
   "metadata": {
    "hidden": true
   },
   "source": [
    "Позитивные отзывы об автокредитах:\n",
    "\n",
    "- Тема 1: Хорошее обслуживание (признательность за помощь или решение возникших проблем, общее удовлетворение клиента процессом обслуживания и работы с банком)\n",
    "\n",
    "- Тема 2: Удовлетворенность процессом оформления автокредита (положительные эмоции от простоты и удобства процесса оформления кредита, от выгодных условий)\n",
    "\n",
    "- Тема 3: Удовлетворенность условиями кредита и выплатами по кредиту (удовлетворенность процессом выплат, условиями кредита, выполнением своих обязательств банком или готовность и способность клиента выполнять обязательства по кредитному договору)\n",
    "\n",
    "- Тема 4: Удовлетворенность процессом закрытия автокредита (уудовлетворенность процессом погашения кредита через использование приложения банка или возможности досрочного погашения)\n",
    "\n",
    "- Тема 5: Положительный опыт использования рассрочки (удовлетворение выгодными условиями кредитной карты, включая низкие процентные ставки, доступные рассрочки, готовность рекомендовать карту другим)"
   ]
  },
  {
   "cell_type": "code",
   "execution_count": 353,
   "id": "5151062e",
   "metadata": {
    "ExecuteTime": {
     "end_time": "2024-05-13T14:03:24.562338Z",
     "start_time": "2024-05-13T14:03:24.556405Z"
    },
    "hidden": true
   },
   "outputs": [
    {
     "name": "stdout",
     "output_type": "stream",
     "text": [
      "Тема 1:\n",
      "(0, '0.041*\"кредит\" + 0.025*\"услуга\" + 0.024*\"страховка\" + 0.022*\"не\" + 0.021*\"сумма\" + 0.018*\"договор\" + 0.017*\"сотрудник\" + 0.015*\"ставка\" + 0.012*\"оформлять\" + 0.011*\"страхование\"')\n",
      "\n",
      "\n",
      "Тема 2:\n",
      "(1, '0.051*\"не\" + 0.014*\"сотрудник\" + 0.013*\"заявка\" + 0.012*\")\" + 0.011*\"кредит\" + 0.009*\"сказать\" + 0.008*\"клиент\" + 0.007*\"звонок\" + 0.007*\"ответ\" + 0.006*\"отвечать\"')\n",
      "\n",
      "\n",
      "Тема 3:\n",
      "(2, '0.044*\"не\" + 0.023*\"счет\" + 0.021*\"платеж\" + 0.020*\"карта\" + 0.020*\"кредит\" + 0.018*\"деньги\" + 0.011*\"сумма\" + 0.010*\")\" + 0.009*\"списывать\" + 0.008*\"приложение\"')\n",
      "\n",
      "\n",
      "Тема 4:\n",
      "(3, '0.023*\"постановление\" + 0.017*\"арест\" + 0.015*\"бки\" + 0.014*\"пристав\" + 0.013*\"история\" + 0.012*\"информация\" + 0.012*\"кредитный\" + 0.011*\"год\" + 0.010*\"бюро\" + 0.009*\"дс\"')\n",
      "\n",
      "\n",
      "Тема 5:\n",
      "(4, '0.039*\"не\" + 0.019*\"кредит\" + 0.015*\"обращение\" + 0.010*\"чат\" + 0.008*\"процент\" + 0.008*\"договор\" + 0.007*\"поддержка\" + 0.007*\"закрывать\" + 0.007*\"оформлять\" + 0.007*\"покупка\"')\n",
      "\n",
      "\n"
     ]
    }
   ],
   "source": [
    "show_themes(category = 'credits', grade = 0)"
   ]
  },
  {
   "cell_type": "markdown",
   "id": "d861b20e",
   "metadata": {
    "hidden": true
   },
   "source": [
    "Негативные отзывы о кредитах:\n",
    "\n",
    "- Тема 1: Проблемы с условиями кредита и страхованием (высокие ставки, неудовлетворительные условия кредита, недовольство процессом страхования)\n",
    "\n",
    "- Тема 2: Проблемы с обслуживанием и обработкой заявок (долгое ожидание ответа на заявку, неудовлетворительные или неполные ответы со стороны сотрудников банка, неудовслетворительное обслуживание клиента)\n",
    "\n",
    "- Тема 3: Проблемы с платежами и счетами (неправильные списания средств, сложности с доступом к счетам или картам через приложение банка, недовольство условиями кредитных карт или суммой платежей) \n",
    "\n",
    "- Тема 4: Проблемы с кредитной историей и исполнительным производством (наличие ареста на имущество, информация о задолженности в кредитных бюро, наличие исполнительного производства, обращение приставов к должнику)\n",
    "\n",
    "- Тема 5: Проблемы с обращением в банк и услугами поддержки (длительное ожидание ответа на обращение через онлайн-чат или по телефону, недостаточная поддержка со стороны банка при решении возникших вопросов и проблем)"
   ]
  },
  {
   "cell_type": "code",
   "execution_count": 354,
   "id": "31907607",
   "metadata": {
    "ExecuteTime": {
     "end_time": "2024-05-13T14:03:33.132585Z",
     "start_time": "2024-05-13T14:03:33.128151Z"
    },
    "hidden": true
   },
   "outputs": [
    {
     "name": "stdout",
     "output_type": "stream",
     "text": [
      "Тема 1:\n",
      "(0, '0.028*\"сотрудник\" + 0.023*\"платеж\" + 0.019*\"помогать\" + 0.015*\"ситуация\" + 0.015*\"👍\" + 0.015*\"спасибо\" + 0.015*\"хотеть\" + 0.012*\"помощь\" + 0.011*\"решение\" + 0.011*\"благодарность\"')\n",
      "\n",
      "\n",
      "Тема 2:\n",
      "(1, '0.024*\"кредит\" + 0.024*\"сотрудник\" + 0.020*\"очень\" + 0.017*\"обращаться\" + 0.014*\"офис\" + 0.013*\"быстро\" + 0.013*\"спасибо\" + 0.012*\"не\" + 0.011*\"условие\" + 0.011*\"оформлять\"')\n",
      "\n",
      "\n",
      "Тема 3:\n",
      "(2, '0.044*\"карта\" + 0.031*\"приложение\" + 0.025*\"очень\" + 0.017*\"удобный\" + 0.015*\"пользоваться\" + 0.013*\"счет\" + 0.012*\"совкомбанк\" + 0.011*\"мочь\" + 0.011*\"халва\" + 0.011*\"мобильный\"')\n",
      "\n",
      "\n",
      "Тема 4:\n",
      "(3, '0.032*\"кредитный\" + 0.015*\"история\" + 0.012*\"бизнес\" + 0.010*\"доктор\" + 0.009*\"ренессанс\" + 0.009*\"не\" + 0.008*\"крупный\" + 0.008*\"действовать\" + 0.008*\"пятерочка\" + 0.007*\"совсем\"')\n",
      "\n",
      "\n",
      "Тема 5:\n",
      "(4, '0.040*\"не\" + 0.023*\"карта\" + 0.017*\")\" + 0.016*\"месяц\" + 0.016*\"чат\" + 0.016*\"покупка\" + 0.014*\"процент\" + 0.011*\"рассрочка\" + 0.010*\"сумма\" + 0.010*\"решать\"')\n",
      "\n",
      "\n"
     ]
    }
   ],
   "source": [
    "show_themes(category = 'credits', grade = 1)"
   ]
  },
  {
   "cell_type": "markdown",
   "id": "14d8d207",
   "metadata": {
    "hidden": true
   },
   "source": [
    "Позитивные отзывы о кредитах:\n",
    "\n",
    "- Тема 1: Положительный опыт общения с сотрудниками банка (положительные эмоции клиента и его признательность за помощь, полученную от сотрудников банка при решении финансовых вопросов или проблем)\n",
    "\n",
    "- Тема 2: Быстрое оформление кредита (высокая оценка работы сотрудников банка в офисе и признательность за быстрое и эффективное оформление кредита)\n",
    "\n",
    "- Тема 3: Положительный опыт использования мобильного приложения (высокая оценку удобства и функциональности мобильного приложения, включая быстрый доступ к информации о счете и удобные функции управления финансами) \n",
    "\n",
    "- Тема 4: Поддержка для развития бизнеса (предоставление кредита для развития бизнеса и возможность улучшения кредитной истории через сотрудничество с банком)\n",
    "\n",
    "- Тема 5: Удобство и гибкость условий использования кредитной карты (удобство использования кредитной карты для совершения покупок и оплаты в рассрочку)"
   ]
  },
  {
   "cell_type": "code",
   "execution_count": 355,
   "id": "ae0111e1",
   "metadata": {
    "ExecuteTime": {
     "end_time": "2024-05-13T14:03:34.851284Z",
     "start_time": "2024-05-13T14:03:34.844247Z"
    },
    "hidden": true
   },
   "outputs": [
    {
     "name": "stdout",
     "output_type": "stream",
     "text": [
      "Тема 1:\n",
      "(0, '0.019*\"постановление\" + 0.009*\"взыскание\" + 0.009*\"пристав\" + 0.009*\"пао\" + 0.009*\"арест\" + 0.006*\"должник\" + 0.005*\"исполнительный\" + 0.004*\"облигация\" + 0.004*\"бонусный\" + 0.004*\"производство\"')\n",
      "\n",
      "\n",
      "Тема 2:\n",
      "(1, '0.044*\"не\" + 0.017*\"вклад\" + 0.017*\"счет\" + 0.016*\"деньги\" + 0.016*\")\" + 0.014*\"сотрудник\" + 0.011*\"клиент\" + 0.010*\"открывать\" + 0.009*\"обращение\" + 0.009*\"информация\"')\n",
      "\n",
      "\n",
      "Тема 3:\n",
      "(2, '0.058*\"не\" + 0.038*\"карта\" + 0.018*\"сказать\" + 0.014*\"заявка\" + 0.013*\"приходить\" + 0.009*\"горячий\" + 0.009*\"линия\" + 0.009*\"позвонить\" + 0.008*\"новый\" + 0.008*\"ничто\"')\n",
      "\n",
      "\n",
      "Тема 4:\n",
      "(3, '0.051*\"комиссия\" + 0.025*\"снятие\" + 0.022*\"снимать\" + 0.012*\"руб\" + 0.010*\"тариф\" + 0.009*\"лимит\" + 0.008*\"мтс\" + 0.008*\"дс\" + 0.008*\"qr\" + 0.007*\"коллцентр\"')\n",
      "\n",
      "\n",
      "Тема 5:\n",
      "(4, '0.037*\"не\" + 0.020*\"условие\" + 0.015*\"покупка\" + 0.015*\"счет\" + 0.014*\"месяц\" + 0.013*\"чат\" + 0.013*\"рубль\" + 0.012*\"акция\" + 0.012*\"процент\" + 0.011*\"ставка\"')\n",
      "\n",
      "\n"
     ]
    }
   ],
   "source": [
    "show_themes(category = 'deposits', grade = 0)"
   ]
  },
  {
   "cell_type": "markdown",
   "id": "1c7c7e1d",
   "metadata": {
    "hidden": true
   },
   "source": [
    "Негативные отзывы о депозитах:\n",
    "\n",
    "- Тема 1: Проблемы с исполнительным производством и взысканием долгов (наличие исполнительных постановлений или арестов на счета клиента, а также процесс взыскания долгов со стороны приставов или банка)\n",
    "\n",
    "- Тема 2: Проблемы с доступом к счету (сложности с открытием депозита или доступом к счету, недостаточное обслуживание со стороны сотрудников банка, а также неудовлетворительная предоставляемая информация клиенту)\n",
    "\n",
    "- Тема 3: Проблемы с обработкой заявок по горячей линии (длительное ожидание ответа на заявку, недостаточная информация от сотрудников банка, сложности с получением или активацией карточных услуг, недовольство качеством обслуживания через горячую линию) \n",
    "\n",
    "- Тема 4: Проблемы с комиссиями и снятием средств с депозитов (высокие комиссии за снятие средств или непонятные тарифы, а также сложности с доступом к деньгам)\n",
    "\n",
    "- Тема 5: Неудовлетворительные условия депозитов (недовольство условиями открытия депозита, низкая процентная ставка или неясные условия акций по депозитам)"
   ]
  },
  {
   "cell_type": "code",
   "execution_count": 356,
   "id": "be672cd3",
   "metadata": {
    "ExecuteTime": {
     "end_time": "2024-05-13T14:03:36.350051Z",
     "start_time": "2024-05-13T14:03:36.345290Z"
    },
    "hidden": true
   },
   "outputs": [
    {
     "name": "stdout",
     "output_type": "stream",
     "text": [
      "Тема 1:\n",
      "(0, '0.071*\"рассрочка\" + 0.043*\"кредит\" + 0.026*\"платеж\" + 0.025*\"подписка\" + 0.014*\"👍\" + 0.014*\"одобрять\" + 0.012*\"купить\" + 0.011*\"вернуть\" + 0.010*\"ремонт\" + 0.009*\"покупать\"')\n",
      "\n",
      "\n",
      "Тема 2:\n",
      "(1, '0.029*\"сотрудник\" + 0.021*\"очень\" + 0.020*\"вклад\" + 0.019*\"офис\" + 0.016*\"помогать\" + 0.015*\"обслуживание\" + 0.014*\"обращаться\" + 0.013*\"спасибо\" + 0.012*\"отделение\" + 0.012*\"рассказывать\"')\n",
      "\n",
      "\n",
      "Тема 3:\n",
      "(2, '0.059*\"карта\" + 0.030*\"не\" + 0.023*\"очень\" + 0.015*\"покупка\" + 0.014*\"пользоваться\" + 0.011*\"халва\" + 0.011*\")\" + 0.011*\"хороший\" + 0.010*\"кредитный\" + 0.009*\"деньги\"')\n",
      "\n",
      "\n",
      "Тема 4:\n",
      "(3, '0.052*\"приложение\" + 0.023*\"мочь\" + 0.021*\"мобильный\" + 0.021*\"удобный\" + 0.019*\"совкомбанк\" + 0.018*\"счет\" + 0.016*\"финансы\" + 0.014*\"время\" + 0.012*\"финансовый\" + 0.012*\"услуга\"')\n",
      "\n",
      "\n",
      "Тема 5:\n",
      "(4, '0.025*\"вклад\" + 0.022*\"чат\" + 0.019*\"счет\" + 0.019*\"не\" + 0.015*\"открывать\" + 0.015*\"процент\" + 0.014*\"оператор\" + 0.011*\"ставка\" + 0.011*\"отвечать\" + 0.010*\"условие\"')\n",
      "\n",
      "\n"
     ]
    }
   ],
   "source": [
    "show_themes(category = 'deposits', grade = 1)"
   ]
  },
  {
   "cell_type": "markdown",
   "id": "fb8e8a1a",
   "metadata": {
    "hidden": true
   },
   "source": [
    "Позитивные отзывы о депозитах:\n",
    "\n",
    "- Тема 1: Удовлетворенность гибкими условиями депозитов (уверенность в гибких условиях вклада и возможности использования средств для различных нужд)\n",
    "\n",
    "- Тема 2: Положительный опыт обслуживания в отделении (удовлетворение клиента качеством обслуживания, а также помощью, предоставленной сотрудниками банка при открытии и управлении депозитом)\n",
    "\n",
    "- Тема 3: Удовлетворение услугами депозитов, предоставляемыми с использованием карточки (удовлетворение клиента качеством обслуживания депозитом, предоставляемого с использованием карточки, а также удобством и преимуществами, которые предлагаются с помощью этого инструмента) \n",
    "\n",
    "- Тема 4: Удовлетворение качеством мобильного приложения банка (удовлетворение клиента удобством и функциональностью мобильного приложения для управления депозитами, а также хорошим качеством предоставляемых финансовых услуг через это приложение)\n",
    "\n",
    "- Тема 5: Удовлетворение процентными ставками и удобством общения с операторами (удовлетворение клиента выгодными процентными ставками, предоставляемыми по вкладам, а также удобством и оперативностью общения с операторами банка через онлайн-чат)"
   ]
  },
  {
   "cell_type": "code",
   "execution_count": 357,
   "id": "e4dd04e0",
   "metadata": {
    "ExecuteTime": {
     "end_time": "2024-05-13T14:03:38.143914Z",
     "start_time": "2024-05-13T14:03:38.138050Z"
    },
    "hidden": true
   },
   "outputs": [
    {
     "name": "stdout",
     "output_type": "stream",
     "text": [
      "Тема 1:\n",
      "(0, '0.019*\"ипотека\" + 0.019*\")\" + 0.016*\"обременение\" + 0.013*\"договор\" + 0.013*\"не\" + 0.012*\"кредитный\" + 0.011*\"снимать\" + 0.010*\"обращаться\" + 0.010*\"информация\" + 0.009*\"кредит\"')\n",
      "\n",
      "\n",
      "Тема 2:\n",
      "(1, '0.060*\"не\" + 0.016*\"ипотека\" + 0.016*\"документ\" + 0.015*\"менеджер\" + 0.012*\"заявка\" + 0.011*\"сотрудник\" + 0.010*\"сделка\" + 0.009*\")\" + 0.008*\"сказать\" + 0.008*\"нет\"')\n",
      "\n",
      "\n",
      "Тема 3:\n",
      "(2, '0.047*\"не\" + 0.021*\"деньги\" + 0.020*\"счет\" + 0.017*\"платеж\" + 0.015*\"ипотека\" + 0.012*\"сумма\" + 0.009*\"средство\" + 0.009*\"обращение\" + 0.009*\")\" + 0.009*\"заявление\"')\n",
      "\n",
      "\n",
      "Тема 4:\n",
      "(3, '0.042*\"сделка\" + 0.025*\"менеджер\" + 0.017*\"одобрять\" + 0.014*\"не\" + 0.013*\"доверенность\" + 0.013*\"недвижимость\" + 0.012*\"оценка\" + 0.012*\"мы\" + 0.011*\"продавец\" + 0.010*\"назначать\"')\n",
      "\n",
      "\n",
      "Тема 5:\n",
      "(4, '0.038*\"ставка\" + 0.032*\"договор\" + 0.023*\"год\" + 0.023*\"страховка\" + 0.022*\"страхование\" + 0.019*\"полис\" + 0.017*\"условие\" + 0.015*\"не\" + 0.011*\"дом\" + 0.011*\"страховой\"')\n",
      "\n",
      "\n"
     ]
    }
   ],
   "source": [
    "show_themes(category = 'hypothec', grade = 0)"
   ]
  },
  {
   "cell_type": "markdown",
   "id": "cea38ab7",
   "metadata": {
    "hidden": true
   },
   "source": [
    "Негативные отзывы об ипотеке:\n",
    "\n",
    "- Тема 1: Проблемы с условиями ипотечного кредитования (сложности с пониманием условий кредита, обременение имущества и недостаточная информированность)\n",
    "\n",
    "- Тема 2: Отказы по ипотеке и проблемы с коммуникацией с менеджерами (отказы, неопределенность или недостаточная информация от сотрудников банка)\n",
    "\n",
    "- Тема 3: Проблемы с платежами и денежными операциями по ипотеке (задержки или ошибки в выплатах, недостаточная информация о сумме платежей или сложности с управлением финансами через банковский счет) \n",
    "\n",
    "- Тема 4: Сложность процедуры получения ипотеки (сложности с одобрением кредита, требования по наличию определенных документов и коммуникация с продавцом недвижимости) \n",
    "\n",
    "- Тема 5: Проблемы со страховкой при оформлении ипотеки (обязтельные условия страхования для получения ипотеки и проблемы с оформлением страховки)"
   ]
  },
  {
   "cell_type": "code",
   "execution_count": 358,
   "id": "d983416a",
   "metadata": {
    "ExecuteTime": {
     "end_time": "2024-05-13T14:03:39.687372Z",
     "start_time": "2024-05-13T14:03:39.682639Z"
    },
    "hidden": true
   },
   "outputs": [
    {
     "name": "stdout",
     "output_type": "stream",
     "text": [
      "Тема 1:\n",
      "(0, '0.031*\"сделка\" + 0.017*\"работа\" + 0.017*\"ипотечный\" + 0.014*\"благодарность\" + 0.012*\"сотрудник\" + 0.012*\"спасибо\" + 0.011*\"решение\" + 0.011*\"специалист\" + 0.010*\"хотеть\" + 0.010*\"клиент\"')\n",
      "\n",
      "\n",
      "Тема 2:\n",
      "(1, '0.035*\"ипотека\" + 0.022*\"очень\" + 0.020*\"сотрудник\" + 0.013*\"помогать\" + 0.013*\"офис\" + 0.013*\"быстро\" + 0.013*\"документ\" + 0.011*\"оформление\" + 0.011*\"оформлять\" + 0.011*\"обращаться\"')\n",
      "\n",
      "\n",
      "Тема 3:\n",
      "(2, '0.051*\"не\" + 0.018*\")\" + 0.012*\"документ\" + 0.011*\"договор\" + 0.010*\"менеджер\" + 0.010*\"квартира\" + 0.009*\"ипотека\" + 0.008*\"сделка\" + 0.007*\"заявка\" + 0.007*\"счет\"')\n",
      "\n",
      "\n",
      "Тема 4:\n",
      "(3, '0.030*\"$\" + 0.015*\"покупатель\" + 0.011*\"спустя\" + 0.010*\"сотрудничать\" + 0.009*\"√\" + 0.009*\"сильно\" + 0.009*\"отказывать\" + 0.008*\"относительно\" + 0.008*\"внимательно\" + 0.008*\"просрочка\"')\n",
      "\n",
      "\n",
      "Тема 5:\n",
      "(4, '0.042*\"ипотека\" + 0.029*\"ставка\" + 0.020*\"альфа\" + 0.019*\"условие\" + 0.014*\"год\" + 0.014*\"карта\" + 0.014*\"приложение\" + 0.013*\"процент\" + 0.013*\"очень\" + 0.012*\"оформлять\"')\n",
      "\n",
      "\n"
     ]
    }
   ],
   "source": [
    "show_themes(category = 'hypothec', grade = 1)"
   ]
  },
  {
   "cell_type": "markdown",
   "id": "97ab872d",
   "metadata": {
    "hidden": true
   },
   "source": [
    "Позитивные отзывы об ипотеке:\n",
    "\n",
    "- Тема 1: Удовлетворенность процессом проведения сделки (профессионализм и помощь со стороны сотрудников банка в процессе оформления ипотечного кредита)\n",
    "\n",
    "- Тема 2: Положительный опыт взаимодействия с сотрудниками в офисе (высокая оценка эффективности работы персонала банка и оперативность предоставления услуг)\n",
    "\n",
    "- Тема 3: Отсутствие проблем с документами (не сталкивались с затруднениями в процессе сбора необходимых документов и подписания договора) \n",
    "\n",
    "- Тема 4: Положительный опыт обслуживания ипотеки (удовлетворённость клиентов качеством обслуживания и довольство результатом сотрудничества с банком в решении вопросов по уже дейтсвующей ипотеке)\n",
    "\n",
    "- Тема 5: Низкая процентная ставка по ипотечному кредиту (клиенты считают условия кредитования и процентные ставки довольно привлекательными и удовлетворительными для себя)"
   ]
  },
  {
   "cell_type": "code",
   "execution_count": 359,
   "id": "daca80e6",
   "metadata": {
    "ExecuteTime": {
     "end_time": "2024-05-13T14:03:41.203941Z",
     "start_time": "2024-05-13T14:03:41.197513Z"
    },
    "hidden": true
   },
   "outputs": [
    {
     "name": "stdout",
     "output_type": "stream",
     "text": [
      "Тема 1:\n",
      "(0, '0.017*\"не\" + 0.014*\"списывать\" + 0.011*\"кредитный\" + 0.011*\"страховка\" + 0.010*\"месяц\" + 0.010*\"информация\" + 0.009*\"бки\" + 0.009*\"деньги\" + 0.009*\"комиссия\" + 0.009*\"задолженность\"')\n",
      "\n",
      "\n",
      "Тема 2:\n",
      "(1, '0.042*\"не\" + 0.018*\"акция\" + 0.018*\"условие\" + 0.018*\"покупка\" + 0.016*\"карта\" + 0.014*\"обращение\" + 0.010*\"рубль\" + 0.009*\"бонус\" + 0.009*\"месяц\" + 0.009*\"ответ\"')\n",
      "\n",
      "\n",
      "Тема 3:\n",
      "(2, '0.059*\"не\" + 0.033*\"карта\" + 0.011*\")\" + 0.011*\"кредитный\" + 0.009*\"сотрудник\" + 0.008*\"сказать\" + 0.008*\"счет\" + 0.007*\"заявка\" + 0.007*\"клиент\" + 0.006*\"решать\"')\n",
      "\n",
      "\n",
      "Тема 4:\n",
      "(3, '0.035*\"постановление\" + 0.018*\"исполнять\" + 0.017*\"обращение\" + 0.016*\"арест\" + 0.013*\"направлять\" + 0.013*\"документ\" + 0.013*\"поступать\" + 0.013*\"пристав\" + 0.010*\"отправка\" + 0.010*\"снимать\"')\n",
      "\n",
      "\n",
      "Тема 5:\n",
      "(4, '0.031*\"период\" + 0.019*\"льготный\" + 0.018*\"платеж\" + 0.016*\"процент\" + 0.016*\"сумма\" + 0.014*\")\" + 0.012*\"рубль\" + 0.009*\"подключать\" + 0.009*\"погасить\" + 0.009*\"подписка\"')\n",
      "\n",
      "\n"
     ]
    }
   ],
   "source": [
    "show_themes(category = 'creditcards', grade = 0)"
   ]
  },
  {
   "cell_type": "markdown",
   "id": "75a012ac",
   "metadata": {
    "hidden": true
   },
   "source": [
    "Негативные отзывы о кредитных картах:\n",
    "\n",
    "- Тема 1: Проблемы с списыванием средств и дополнительными комиссиями (недовольство клиентов процессом управления финансами и наличием скрытых комиссий)\n",
    "\n",
    "- Тема 2: Недовольство условиями акций по карте (недовольство клиентов предложенными акциями и условиями совершения покупок с использованием карты)\n",
    "\n",
    "- Тема 3: Неудовлетворенность результатом обращения в банк (недовольство клиентов качеством обслуживания и службой поддержки, а также на сложности в решении возникших проблем)\n",
    "\n",
    "- Тема 4: Проблемы с исполнением обязательств (юридические проблемы, в том числе связанные с действиями приставов и исполнением судебных постановлений)\n",
    "\n",
    "- Тема 5: Проблемы с погашением задолженности (трудности с пониманием и выполнением условий кредитной карты, в том числе с оплатой и погашением задолженности)"
   ]
  },
  {
   "cell_type": "code",
   "execution_count": 360,
   "id": "efff04a2",
   "metadata": {
    "ExecuteTime": {
     "end_time": "2024-05-13T14:03:42.789494Z",
     "start_time": "2024-05-13T14:03:42.784594Z"
    },
    "hidden": true
   },
   "outputs": [
    {
     "name": "stdout",
     "output_type": "stream",
     "text": [
      "Тема 1:\n",
      "(0, '0.034*\"не\" + 0.031*\"чат\" + 0.019*\"решать\" + 0.018*\"оператор\" + 0.016*\"обращаться\" + 0.015*\"поддержка\" + 0.015*\"отвечать\" + 0.015*\"карта\" + 0.012*\"быстро\" + 0.012*\"проблема\"')\n",
      "\n",
      "\n",
      "Тема 2:\n",
      "(1, '0.032*\"очень\" + 0.028*\"приложение\" + 0.018*\"удобный\" + 0.012*\"сотрудник\" + 0.011*\"совкомбанк\" + 0.011*\"всегда\" + 0.011*\"обслуживание\" + 0.011*\"мочь\" + 0.011*\"помогать\" + 0.011*\"хороший\"')\n",
      "\n",
      "\n",
      "Тема 3:\n",
      "(2, '0.060*\"карта\" + 0.025*\"не\" + 0.015*\"оформлять\" + 0.012*\")\" + 0.011*\"кредитный\" + 0.011*\"офис\" + 0.010*\"время\" + 0.010*\"оформление\" + 0.009*\"дебетовый\" + 0.009*\"функция\"')\n",
      "\n",
      "\n",
      "Тема 4:\n",
      "(3, '0.034*\"не\" + 0.028*\"карта\" + 0.027*\"кредит\" + 0.025*\"процент\" + 0.019*\"кредитный\" + 0.015*\"условие\" + 0.013*\"деньги\" + 0.013*\"ставка\" + 0.013*\"год\" + 0.011*\"сумма\"')\n",
      "\n",
      "\n",
      "Тема 5:\n",
      "(4, '0.039*\"карта\" + 0.036*\"покупка\" + 0.029*\"халва\" + 0.028*\"рассрочка\" + 0.020*\"месяц\" + 0.015*\"акция\" + 0.015*\"партнер\" + 0.015*\"не\" + 0.014*\"кэшбэк\" + 0.012*\"средство\"')\n",
      "\n",
      "\n"
     ]
    }
   ],
   "source": [
    "show_themes(category = 'creditcards', grade = 1)"
   ]
  },
  {
   "cell_type": "markdown",
   "id": "b339e911",
   "metadata": {
    "hidden": true
   },
   "source": [
    "Позитивные отзывы о кредитных картах:\n",
    "\n",
    "- Тема 1: Эффективное обслуживание и поддержка клиентов (высокий уровень обслуживания, доступность и скорость помощи со стороны банка)\n",
    "\n",
    "- Тема 2: Удобное приложение (удовлетворение хорошим и удобным приложением, а также помощью и услугами, которые они получают из приложения)\n",
    "\n",
    "- Тема 3: Удобное оформление карты (простота и удобство оформления карты)\n",
    "\n",
    "- Тема 4: Выгодные условия использования кредитной карты (выгодные условия кредитования и обслуживания карты, что позитивно сказывается на их финансовых возможностях и удобстве использования)\n",
    "\n",
    "- Тема 5: Преимущества программ лояльности и рассрочки (возможность покупок в рассрочку, акции и скидки от партнеров банка, а также наличие кэшбэк-программ)"
   ]
  },
  {
   "cell_type": "code",
   "execution_count": 361,
   "id": "5a5f6a4d",
   "metadata": {
    "ExecuteTime": {
     "end_time": "2024-05-13T14:03:44.350056Z",
     "start_time": "2024-05-13T14:03:44.342954Z"
    },
    "hidden": true
   },
   "outputs": [
    {
     "name": "stdout",
     "output_type": "stream",
     "text": [
      "Тема 1:\n",
      "(0, '0.009*\")\" + 0.009*\"орган\" + 0.009*\"договор\" + 0.009*\"ао\" + 0.007*\"яндекс\" + 0.007*\"пакет\" + 0.007*\"предоставлять\" + 0.006*\"идентификация\" + 0.006*\"рф\" + 0.006*\"право\"')\n",
      "\n",
      "\n",
      "Тема 2:\n",
      "(1, '0.026*\"счет\" + 0.016*\"не\" + 0.016*\"обращение\" + 0.015*\"деньги\" + 0.014*\"сотрудник\" + 0.013*\"год\" + 0.012*\"документ\" + 0.012*\"средство\" + 0.012*\"заявление\" + 0.009*\"снимать\"')\n",
      "\n",
      "\n",
      "Тема 3:\n",
      "(2, '0.059*\"не\" + 0.031*\"карта\" + 0.010*\")\" + 0.008*\"счет\" + 0.008*\"сказать\" + 0.007*\"деньги\" + 0.007*\"время\" + 0.007*\"клиент\" + 0.007*\"приложение\" + 0.006*\"сотрудник\"')\n",
      "\n",
      "\n",
      "Тема 4:\n",
      "(3, '0.011*\"инвалид\" + 0.009*\"фонд\" + 0.007*\"васильевна\" + 0.007*\"бесконтактный\" + 0.007*\"пенсионный\" + 0.005*\"числоть\" + 0.005*\"привет\" + 0.005*\"открываться\" + 0.005*\"кеш\" + 0.005*\"улучшение\"')\n",
      "\n",
      "\n",
      "Тема 5:\n",
      "(4, '0.027*\"не\" + 0.027*\"акция\" + 0.026*\"покупка\" + 0.020*\"условие\" + 0.015*\"бонус\" + 0.015*\")\" + 0.013*\"рубль\" + 0.011*\"начислять\" + 0.011*\"месяц\" + 0.011*\"ответ\"')\n",
      "\n",
      "\n"
     ]
    }
   ],
   "source": [
    "show_themes(category = 'debitcards', grade = 0)"
   ]
  },
  {
   "cell_type": "markdown",
   "id": "3bd24bba",
   "metadata": {
    "hidden": true
   },
   "source": [
    "Негативные отзывы о дебетовых картах:\n",
    "\n",
    "- Тема 1: Проблемы с оформлением и предоставлением документов (недовольство сложностями в процессе оформления документов и предоставления необходимых пакетов документов для получения дебетовой карты)\n",
    "\n",
    "- Тема 2: Проблемы с доступом к счету (сложности с доступом к собственным деньгам и выполнением различных операций со счетом)\n",
    "\n",
    "- Тема 3: Проблемы с использованием дебетовой карты ( разочарование в использовании дебетовой карты из-за различных проблем, таких как недоступность услуг или возникающие сложности при ее использовании) \n",
    "\n",
    "- Тема 4: Неудовлеворенность пенсионеров использованием дебетовой карты (специфичнеы жалобы от определенной категории пользователей - пенсионеров)\n",
    "\n",
    "- Тема 5: Неясность условий акций и начисления бонусов (недовольство условиями акций, начислением бонусов и участием в акциях при использовании дебетовой карты)"
   ]
  },
  {
   "cell_type": "code",
   "execution_count": 362,
   "id": "11ca3fc7",
   "metadata": {
    "ExecuteTime": {
     "end_time": "2024-05-13T14:03:45.977124Z",
     "start_time": "2024-05-13T14:03:45.972505Z"
    },
    "hidden": true
   },
   "outputs": [
    {
     "name": "stdout",
     "output_type": "stream",
     "text": [
      "Тема 1:\n",
      "(0, '0.037*\"халва\" + 0.036*\"рассрочка\" + 0.024*\"кредит\" + 0.021*\"покупка\" + 0.020*\"условие\" + 0.018*\"карта\" + 0.017*\"очень\" + 0.016*\"акция\" + 0.014*\"партнер\" + 0.013*\"месяц\"')\n",
      "\n",
      "\n",
      "Тема 2:\n",
      "(1, '0.032*\"приложение\" + 0.025*\"очень\" + 0.017*\"удобный\" + 0.013*\"мочь\" + 0.012*\"мобильный\" + 0.012*\"помогать\" + 0.011*\"сотрудник\" + 0.011*\"всегда\" + 0.011*\"совкомбанк\" + 0.011*\"клиент\"')\n",
      "\n",
      "\n",
      "Тема 3:\n",
      "(2, '0.050*\"карта\" + 0.031*\"не\" + 0.014*\"очень\" + 0.013*\"счет\" + 0.012*\"деньги\" + 0.011*\"пользоваться\" + 0.011*\"процент\" + 0.010*\")\" + 0.010*\"хороший\" + 0.010*\"вклад\"')\n",
      "\n",
      "\n",
      "Тема 4:\n",
      "(3, '0.074*\"карта\" + 0.019*\"оформлять\" + 0.018*\"офис\" + 0.017*\"не\" + 0.016*\"дебетовый\" + 0.016*\"рассказывать\" + 0.015*\"сотрудник\" + 0.013*\"отделение\" + 0.011*\"оформление\" + 0.011*\"кредитный\"')\n",
      "\n",
      "\n",
      "Тема 5:\n",
      "(4, '0.031*\"не\" + 0.028*\"чат\" + 0.019*\"обращаться\" + 0.017*\"поддержка\" + 0.017*\"оператор\" + 0.015*\"решать\" + 0.013*\"отвечать\" + 0.012*\"спасибо\" + 0.010*\"проблема\" + 0.010*\"специалист\"')\n",
      "\n",
      "\n"
     ]
    }
   ],
   "source": [
    "show_themes(category = 'debitcards', grade = 1)"
   ]
  },
  {
   "cell_type": "markdown",
   "id": "4938277f",
   "metadata": {
    "hidden": true
   },
   "source": [
    "Позитивные отзывы о дебитовых картах:\n",
    "\n",
    "- Тема 1: Разнообразные финансовые возможности (финансовые выгоды для пользователей карты, такие как кредит, рассрочка, удобство совершения покупок)\n",
    "\n",
    "- Тема 2: Удобство использования мобильного приложения (удобство приложения, возможность быстро и легко управлять своими финансами и решать возникшие вопросы)\n",
    "\n",
    "- Тема 3: Удобство использования дебетовых карт (удовлетворение относительно функциональности карты, удобства ее использования и доступности услуг)\n",
    "\n",
    "- Тема 4: Качественное оформление дебетовой карты (позитивные впечатления от рассмотрения процедуры оформления, опыта взаимодействия с сотрудниками банка и общее впечатление от обслуживания)\n",
    "\n",
    "- Тема 5: Оперативность работы поддержки (высокое качество обслуживания клиентов банка через различные каналы коммуникации, такие как чаты поддержки или обращения к операторам, их способность оперативно решать проблемы)"
   ]
  },
  {
   "cell_type": "markdown",
   "id": "0eb1ed05",
   "metadata": {
    "hidden": true
   },
   "source": [
    "__Итоговые темы__"
   ]
  },
  {
   "cell_type": "code",
   "execution_count": null,
   "id": "028dca9e",
   "metadata": {
    "hidden": true
   },
   "outputs": [],
   "source": [
    "mapping['autocredits'] = {0: {0: 'Неудовлетворительные условия кредитования',\n",
    "                             1: 'Проблемы с процессом обращения и обработки заявки',\n",
    "                             2: 'Проблемы с платежами и погашением кредита',\n",
    "                             3: 'Проблемы с залогом и автомобилем',\n",
    "                             4: 'Неудовлетворенность условиями автокредита'},\n",
    "                         1: {0: 'Хорошее обслуживание',\n",
    "                             1: 'Удовлетворенность процессом оформления автокредита',\n",
    "                             2: 'Удовлетворенность условиями кредита и выплатами по кредиту',\n",
    "                             3: 'Удовлетворенность процессом закрытия автокредита',\n",
    "                             4: 'Положительный опыт использования рассрочки'}\n",
    "                         }\n",
    "\n",
    "mapping['credits'] = {0: {0: 'Проблемы с условиями кредита и страхованием',\n",
    "                             1: 'Проблемы с обслуживанием и обработкой заявок',\n",
    "                             2: 'Проблемы с платежами и счетами',\n",
    "                             3: 'Проблемы с кредитной историей и исполнительным производством',\n",
    "                             4: 'Проблемы с обращением в банк и услугами поддержки'},\n",
    "                         1: {0: 'Положительный опыт общения с сотрудниками банка',\n",
    "                             1: 'Быстрое оформление кредита',\n",
    "                             2: 'Положительный опыт использования мобильного приложения',\n",
    "                             3: 'Поддержка для развития бизнеса',\n",
    "                             4: 'Удобство и гибкость условий использования кредитной карты'}\n",
    "                         }\n",
    "\n",
    "mapping['deposits'] = {0: {0: 'Проблемы с исполнительным производством и взысканием долгов',\n",
    "                             1: 'Проблемы с доступом к счету',\n",
    "                             2: 'Проблемы с обработкой заявок по горячей линии',\n",
    "                             3: 'Проблемы с комиссиями и снятием средств с депозитов',\n",
    "                             4: 'Неудовлетворительные условия депозитов'},\n",
    "                         1: {0: 'Удовлетворенность гибкими условиями депозитов',\n",
    "                             1: 'Положительный опыт обслуживания в отделении',\n",
    "                             2: 'Удовлетворение услугами депозитов, предоставляемыми с использованием карточки',\n",
    "                             3: 'Удовлетворение качеством мобильного приложения банка',\n",
    "                             4: 'Удовлетворение процентными ставками и удобством общения с операторами'}\n",
    "                         }\n",
    "\n",
    "mapping['hypothec'] = {0: {0: 'Проблемы с условиями ипотечного кредитования',\n",
    "                             1: 'Отказы по ипотеке и проблемы с коммуникацией с менеджерами',\n",
    "                             2: 'Проблемы с платежами и денежными операциями по ипотеке',\n",
    "                             3: 'Сложность процедуры получения ипотеки',\n",
    "                             4: 'Проблемы со страховкой при оформлении ипотеки'},\n",
    "                         1: {0: 'Удовлетворенность процессом осуществлени сделки',\n",
    "                             1: 'Положительный опыт обслуживания в отделении',\n",
    "                             2: 'Хорошая работа менеджера и отсутствие проблем при подписании договора',\n",
    "                             3: 'Положительный опыт обслуживания ипотеки',\n",
    "                             4: 'Выгодные условия, низкая ставка по ипотеке'}\n",
    "                         }\n",
    "\n",
    "mapping['creditcards'] = {0: {0: 'Проблемы с списыванием средств и дополнительными комиссиями',\n",
    "                             1: 'Недовольство условиями акций по карте',\n",
    "                             2: 'Неудовлетворенность результатом обращения в банк',\n",
    "                             3: 'Проблемы с исполнением обязательств',\n",
    "                             4: 'Проблемы с погашением задолженности'},\n",
    "                         1: {0: 'Эффективное обслуживание и поддержка клиентов',\n",
    "                             1: 'Удобное приложение',\n",
    "                             2: 'Удобное оформление карты',\n",
    "                             3: 'Выгодные условия использования кредитной карты',\n",
    "                             4: 'Преимущества программ лояльности и рассрочки'}\n",
    "                         }\n",
    "\n",
    "mapping['debitcards'] = {0: {0: 'Проблемы с оформлением и предоставлением документов',\n",
    "                             1: 'Проблемы с доступом к счету',\n",
    "                             2: 'Проблемы с использованием дебетовой карты',\n",
    "                             3: 'Неудовлеворенность пенсионеров использованием дебетовой карты',\n",
    "                             4: 'Неясность условий акций и начисления бонусов'},\n",
    "                         1: {0: 'Разнообразные финансовые возможности',\n",
    "                             1: 'Удобство использования мобильного приложения',\n",
    "                             2: 'Удобство использования дебетовых карт',\n",
    "                             3: 'Качественное оформление дебетовой карты',\n",
    "                             4: 'Оперативность работы поддержки'}\n",
    "                         }"
   ]
  },
  {
   "cell_type": "markdown",
   "id": "e2b41618",
   "metadata": {
    "heading_collapsed": true
   },
   "source": [
    "# Классификатор категорий"
   ]
  },
  {
   "cell_type": "code",
   "execution_count": 4,
   "id": "a846bbfb",
   "metadata": {
    "ExecuteTime": {
     "end_time": "2024-06-15T15:27:18.265801Z",
     "start_time": "2024-06-15T15:27:18.262244Z"
    },
    "hidden": true
   },
   "outputs": [],
   "source": [
    "category_classifier = CategoryClassifier(train_data['lemmas'], train_data['category_map'])"
   ]
  },
  {
   "cell_type": "markdown",
   "id": "2fb1db91",
   "metadata": {
    "hidden": true
   },
   "source": [
    "Лучшая модель - __logreg + tf-idf + sentiment vector__"
   ]
  },
  {
   "cell_type": "code",
   "execution_count": 88,
   "id": "1ea5bf28",
   "metadata": {
    "ExecuteTime": {
     "end_time": "2024-06-15T13:00:59.965337Z",
     "start_time": "2024-06-15T13:00:59.961546Z"
    },
    "hidden": true
   },
   "outputs": [
    {
     "data": {
      "text/plain": [
       "{'credits': 1,\n",
       " 'deposits': 2,\n",
       " 'creditcards': 3,\n",
       " 'hypothec': 4,\n",
       " 'autocredits': 5,\n",
       " 'debitcards': 6}"
      ]
     },
     "execution_count": 88,
     "metadata": {},
     "output_type": "execute_result"
    }
   ],
   "source": [
    "category_mapping"
   ]
  },
  {
   "cell_type": "markdown",
   "id": "8174625a",
   "metadata": {
    "heading_collapsed": true,
    "hidden": true
   },
   "source": [
    "## Модели не использующие sentiment"
   ]
  },
  {
   "cell_type": "markdown",
   "id": "b365c8b1",
   "metadata": {
    "heading_collapsed": true,
    "hidden": true
   },
   "source": [
    "### tf-idf + logreg"
   ]
  },
  {
   "cell_type": "code",
   "execution_count": 70,
   "id": "4706067a",
   "metadata": {
    "ExecuteTime": {
     "end_time": "2024-06-15T12:40:34.199475Z",
     "start_time": "2024-06-15T12:40:31.818509Z"
    },
    "hidden": true
   },
   "outputs": [
    {
     "name": "stdout",
     "output_type": "stream",
     "text": [
      "ROC AUC Score: 0.873\n",
      "Precision: 0.646\n",
      "Recall: 0.620\n",
      "Accuracy: 0.610\n"
     ]
    },
    {
     "data": {
      "image/png": "[encoded data removed]",
      "text/plain": [
       "<Figure size 576x432 with 2 Axes>"
      ]
     },
     "metadata": {
      "needs_background": "light"
     },
     "output_type": "display_data"
    }
   ],
   "source": [
    "task_type = 'tfidf'\n",
    "classifier_name = 'logreg'\n",
    "\n",
    "category_classifier.fit_classifier(task_type=task_type, classifier_name=classifier_name)\n",
    "category_classifier.evaluate_model(valid_data['lemmas'], valid_data['category_map'], task_type=task_type, classifier_name=classifier_name)\n"
   ]
  },
  {
   "cell_type": "markdown",
   "id": "9ada383e",
   "metadata": {
    "heading_collapsed": true,
    "hidden": true
   },
   "source": [
    "### tf-idf + svm"
   ]
  },
  {
   "cell_type": "code",
   "execution_count": 63,
   "id": "0853ded8",
   "metadata": {
    "ExecuteTime": {
     "end_time": "2024-06-15T12:35:58.044964Z",
     "start_time": "2024-06-15T12:29:33.599457Z"
    },
    "hidden": true
   },
   "outputs": [
    {
     "name": "stdout",
     "output_type": "stream",
     "text": [
      "ROC AUC Score: 0.845\n",
      "Precision: 0.638\n",
      "Recall: 0.597\n",
      "Accuracy: 0.587\n"
     ]
    },
    {
     "data": {
      "image/png": "[encoded data removed]",
      "text/plain": [
       "<Figure size 576x432 with 2 Axes>"
      ]
     },
     "metadata": {
      "needs_background": "light"
     },
     "output_type": "display_data"
    }
   ],
   "source": [
    "task_type = 'tfidf'\n",
    "classifier_name = 'svm'\n",
    "\n",
    "category_classifier.fit_classifier(task_type=task_type, classifier_name=classifier_name)\n",
    "category_classifier.evaluate_model(valid_data['lemmas'], valid_data['category_map'], task_type=task_type, classifier_name=classifier_name)\n"
   ]
  },
  {
   "cell_type": "markdown",
   "id": "2f309340",
   "metadata": {
    "heading_collapsed": true,
    "hidden": true
   },
   "source": [
    "### FastText + logreg (simple weighted)"
   ]
  },
  {
   "cell_type": "code",
   "execution_count": 69,
   "id": "90d4f03c",
   "metadata": {
    "ExecuteTime": {
     "end_time": "2024-06-15T12:37:18.830330Z",
     "start_time": "2024-06-15T12:37:14.235582Z"
    },
    "hidden": true
   },
   "outputs": [
    {
     "name": "stdout",
     "output_type": "stream",
     "text": [
      "ROC AUC Score: 0.854\n",
      "Precision: 0.620\n",
      "Recall: 0.604\n",
      "Accuracy: 0.595\n"
     ]
    },
    {
     "data": {
      "image/png": "[encoded data removed]",
      "text/plain": [
       "<Figure size 576x432 with 2 Axes>"
      ]
     },
     "metadata": {
      "needs_background": "light"
     },
     "output_type": "display_data"
    }
   ],
   "source": [
    "task_type = 'mean_embedding_vectorizer'\n",
    "classifier_name = 'logreg'\n",
    "\n",
    "category_classifier.fit_classifier(task_type=task_type, classifier_name=classifier_name, embedding_vectorizer = ft_model)\n",
    "category_classifier.evaluate_model(valid_data['lemmas'], valid_data['category_map'], task_type=task_type, classifier_name=classifier_name)\n"
   ]
  },
  {
   "cell_type": "markdown",
   "id": "535edbe9",
   "metadata": {
    "ExecuteTime": {
     "end_time": "2024-05-12T18:08:40.219632Z",
     "start_time": "2024-05-12T18:08:40.216602Z"
    },
    "heading_collapsed": true,
    "hidden": true
   },
   "source": [
    "### FastText + Boosting (simple weighted)"
   ]
  },
  {
   "cell_type": "code",
   "execution_count": 297,
   "id": "35e6fe6f",
   "metadata": {
    "ExecuteTime": {
     "end_time": "2024-05-12T19:42:39.835605Z",
     "start_time": "2024-05-12T19:40:49.769984Z"
    },
    "hidden": true
   },
   "outputs": [
    {
     "name": "stdout",
     "output_type": "stream",
     "text": [
      "ROC AUC Score: 0.813\n",
      "Precision: 0.551\n",
      "Recall: 0.536\n",
      "Accuracy: 0.522\n"
     ]
    },
    {
     "data": {
      "image/png": "[encoded data removed]",
      "text/plain": [
       "<Figure size 576x432 with 2 Axes>"
      ]
     },
     "metadata": {
      "needs_background": "light"
     },
     "output_type": "display_data"
    }
   ],
   "source": [
    "category_boosting = CategoryClassifier(train_data['lemmas'], train_data['category_map'])\n",
    "category_boosting.fit_classifier(task_type = 'simple_embedding_vectorizer', classifier_name = 'catboost', embedding_vectorizer = ft_model)\n",
    "X_valid_processed, y_valid = category_boosting.transform_mean_embedding(valid_data['lemmas']), valid_data['category_map']\n",
    "category_boosting.evaluate_model(X_valid_processed, y_valid)\n"
   ]
  },
  {
   "cell_type": "markdown",
   "id": "034ebe12",
   "metadata": {
    "ExecuteTime": {
     "end_time": "2024-06-15T12:44:15.178393Z",
     "start_time": "2024-06-15T12:44:15.176154Z"
    },
    "heading_collapsed": true,
    "hidden": true
   },
   "source": [
    "### FastText + logreg (if-idf weighted)"
   ]
  },
  {
   "cell_type": "code",
   "execution_count": 71,
   "id": "323ebebe",
   "metadata": {
    "ExecuteTime": {
     "end_time": "2024-06-15T12:43:47.580542Z",
     "start_time": "2024-06-15T12:43:39.738758Z"
    },
    "hidden": true
   },
   "outputs": [
    {
     "name": "stdout",
     "output_type": "stream",
     "text": [
      "ROC AUC Score: 0.837\n",
      "Precision: 0.571\n",
      "Recall: 0.562\n",
      "Accuracy: 0.551\n"
     ]
    },
    {
     "data": {
      "image/png": "[encoded data removed]",
      "text/plain": [
       "<Figure size 576x432 with 2 Axes>"
      ]
     },
     "metadata": {
      "needs_background": "light"
     },
     "output_type": "display_data"
    }
   ],
   "source": [
    "task_type = 'tfidf_embedding_vectorizer'\n",
    "classifier_name = 'logreg'\n",
    "\n",
    "category_classifier.fit_classifier(task_type=task_type, classifier_name=classifier_name, embedding_vectorizer = ft_model)\n",
    "category_classifier.evaluate_model(valid_data['lemmas'], valid_data['category_map'], task_type=task_type, classifier_name=classifier_name)\n"
   ]
  },
  {
   "cell_type": "markdown",
   "id": "2530f191",
   "metadata": {
    "heading_collapsed": true,
    "hidden": true
   },
   "source": [
    "### bag_of_words + logreg"
   ]
  },
  {
   "cell_type": "code",
   "execution_count": 75,
   "id": "4a60dd1b",
   "metadata": {
    "ExecuteTime": {
     "end_time": "2024-06-15T12:45:50.187178Z",
     "start_time": "2024-06-15T12:45:45.778355Z"
    },
    "hidden": true
   },
   "outputs": [
    {
     "name": "stdout",
     "output_type": "stream",
     "text": [
      "ROC AUC Score: 0.834\n",
      "Precision: 0.557\n",
      "Recall: 0.543\n",
      "Accuracy: 0.527\n"
     ]
    },
    {
     "data": {
      "image/png": "[encoded data removed]",
      "text/plain": [
       "<Figure size 576x432 with 2 Axes>"
      ]
     },
     "metadata": {
      "needs_background": "light"
     },
     "output_type": "display_data"
    }
   ],
   "source": [
    "task_type = 'bag_of_words'\n",
    "classifier_name = 'logreg'\n",
    "\n",
    "category_classifier.fit_classifier(task_type=task_type, classifier_name=classifier_name)\n",
    "category_classifier.evaluate_model(valid_data['lemmas'], valid_data['category_map'], task_type=task_type, classifier_name=classifier_name)\n"
   ]
  },
  {
   "cell_type": "markdown",
   "id": "0b39370b",
   "metadata": {
    "hidden": true
   },
   "source": [
    "В целом, качество хорошее. Ошибки происходят в массе своей при попытке классификатора отличить кредитные карты от 1) кредитов 2) дебетовых карт.\n",
    "\n",
    "Лучшая модель - __logreg + tf-idf__"
   ]
  },
  {
   "cell_type": "markdown",
   "id": "fac0a029",
   "metadata": {
    "hidden": true
   },
   "source": [
    "## Используем тональность в качестве дополнительного признака"
   ]
  },
  {
   "cell_type": "code",
   "execution_count": 8,
   "id": "261de9c5",
   "metadata": {
    "ExecuteTime": {
     "end_time": "2024-06-15T15:29:20.221789Z",
     "start_time": "2024-06-15T15:29:20.002730Z"
    },
    "hidden": true
   },
   "outputs": [],
   "source": [
    "with open('./Вспомогательные файлы/sentiment_classifier.pkl', 'rb') as f:\n",
    "    sentiment_classifier = pickle.load(f)"
   ]
  },
  {
   "cell_type": "code",
   "execution_count": 10,
   "id": "d6ec18ab",
   "metadata": {
    "ExecuteTime": {
     "end_time": "2024-06-15T15:29:37.902708Z",
     "start_time": "2024-06-15T15:29:29.687816Z"
    },
    "hidden": true
   },
   "outputs": [],
   "source": [
    "train_sentiment = train_data['grade'].values\n",
    "valid_sentiment = sentiment_classifier.predict(valid_data['lemmas'], 'tfidf', 'svm', threshold = 0.58)"
   ]
  },
  {
   "cell_type": "markdown",
   "id": "37b271c2",
   "metadata": {
    "heading_collapsed": true,
    "hidden": true
   },
   "source": [
    "### svm + tf-idf"
   ]
  },
  {
   "cell_type": "code",
   "execution_count": 93,
   "id": "1eb13280",
   "metadata": {
    "ExecuteTime": {
     "end_time": "2024-06-15T14:04:54.436264Z",
     "start_time": "2024-06-15T13:09:40.285677Z"
    },
    "hidden": true
   },
   "outputs": [
    {
     "name": "stdout",
     "output_type": "stream",
     "text": [
      "ROC AUC Score: 0.859\n",
      "Precision: 0.651\n",
      "Recall: 0.610\n",
      "Accuracy: 0.600\n"
     ]
    },
    {
     "data": {
      "image/png": "[encoded data removed]",
      "text/plain": [
       "<Figure size 576x432 with 2 Axes>"
      ]
     },
     "metadata": {
      "needs_background": "light"
     },
     "output_type": "display_data"
    }
   ],
   "source": [
    "task_type = 'tfidf'\n",
    "classifier_name = 'svm'\n",
    "\n",
    "category_classifier.fit_classifier(task_type=task_type, classifier_name=classifier_name, sentiment = train_sentiment)\n",
    "category_classifier.evaluate_model(valid_data['lemmas'], valid_data['category_map'], task_type=task_type, classifier_name=classifier_name, sentiment = valid_sentiment)\n"
   ]
  },
  {
   "cell_type": "markdown",
   "id": "7308a664",
   "metadata": {
    "heading_collapsed": true,
    "hidden": true
   },
   "source": [
    "### logreg + tf-idf"
   ]
  },
  {
   "cell_type": "code",
   "execution_count": 11,
   "id": "559da010",
   "metadata": {
    "ExecuteTime": {
     "end_time": "2024-06-15T15:29:55.782810Z",
     "start_time": "2024-06-15T15:29:39.509824Z"
    },
    "hidden": true
   },
   "outputs": [
    {
     "name": "stdout",
     "output_type": "stream",
     "text": [
      "ROC AUC Score: 0.870\n",
      "Precision: 0.630\n",
      "Recall: 0.609\n",
      "Accuracy: 0.598\n"
     ]
    },
    {
     "data": {
      "image/png": "[encoded data removed]",
      "text/plain": [
       "<Figure size 576x432 with 2 Axes>"
      ]
     },
     "metadata": {
      "needs_background": "light"
     },
     "output_type": "display_data"
    }
   ],
   "source": [
    "task_type = 'tfidf'\n",
    "classifier_name = 'logreg'\n",
    "\n",
    "category_classifier.fit_classifier(task_type=task_type, classifier_name=classifier_name, sentiment = train_sentiment)\n",
    "category_classifier.evaluate_model(valid_data['lemmas'], valid_data['category_map'], task_type=task_type, classifier_name=classifier_name, sentiment = valid_sentiment)\n"
   ]
  },
  {
   "cell_type": "markdown",
   "id": "d3fac48e",
   "metadata": {
    "hidden": true
   },
   "source": [
    "### Выгружаем модель"
   ]
  },
  {
   "cell_type": "code",
   "execution_count": 12,
   "id": "e44c5831",
   "metadata": {
    "ExecuteTime": {
     "end_time": "2024-06-15T15:30:02.915807Z",
     "start_time": "2024-06-15T15:30:02.646213Z"
    },
    "hidden": true
   },
   "outputs": [],
   "source": [
    "with open('product_classifer.pkl', 'wb') as f:\n",
    "    pickle.dump(category_classifier, f)"
   ]
  },
  {
   "cell_type": "markdown",
   "id": "f4a3d0e6",
   "metadata": {
    "ExecuteTime": {
     "end_time": "2024-05-13T10:52:01.985126Z",
     "start_time": "2024-05-13T10:52:01.973214Z"
    },
    "heading_collapsed": true
   },
   "source": [
    "# Подбор порога для классификатора SentimentClassifier в поисках лучших precission, recall, accuracy и f-score"
   ]
  },
  {
   "cell_type": "code",
   "execution_count": 98,
   "id": "b9283ad7",
   "metadata": {
    "ExecuteTime": {
     "end_time": "2024-06-15T14:23:04.344511Z",
     "start_time": "2024-06-15T14:22:56.241895Z"
    },
    "hidden": true
   },
   "outputs": [
    {
     "name": "stdout",
     "output_type": "stream",
     "text": [
      "Best threshold: 0.580\n",
      "\n",
      "Best F1-score: 0.972\n",
      "Best precision: 0.979\n",
      "Best recall: 0.966\n",
      "Best accuracy: 0.960\n"
     ]
    }
   ],
   "source": [
    "best_model_type = 'tfidf'\n",
    "best_model_classifier = 'svm'\n",
    "\n",
    "thresholds = np.arange(0.1, 1.0, 0.02)\n",
    "best_f1_score = 0\n",
    "best_threshold = 0\n",
    "best_precision = 0\n",
    "best_recall = 0\n",
    "best_accuracy = 0\n",
    "\n",
    "predictions_proba_sentiment = sentiment_classifier.predict_proba(valid_data['lemmas'], best_model_type, best_model_classifier)\n",
    "y_valid = valid_data['grade']\n",
    "for threshold in thresholds:\n",
    "    predictions_thresholded = (predictions_proba_sentiment > threshold).astype(int)\n",
    "    f1 = f1_score(y_valid, predictions_thresholded)\n",
    "    precision = precision_score(y_valid, predictions_thresholded)\n",
    "    recall = recall_score(y_valid, predictions_thresholded)\n",
    "    accuracy = accuracy_score(y_valid, predictions_thresholded)\n",
    "    \n",
    "    if f1 > best_f1_score:\n",
    "        best_f1_score = f1\n",
    "        best_threshold = threshold\n",
    "        best_precision = precision\n",
    "        best_recall = recall\n",
    "        best_accuracy = accuracy\n",
    "\n",
    "print(f\"Best threshold: {best_threshold:.3f}\")\n",
    "print()\n",
    "print(f\"Best F1-score: {best_f1_score:.3f}\")\n",
    "print(f\"Best precision: {best_precision:.3f}\")\n",
    "print(f\"Best recall: {best_recall:.3f}\")\n",
    "print(f\"Best accuracy: {best_accuracy:.3f}\")\n",
    "\n"
   ]
  },
  {
   "cell_type": "code",
   "execution_count": null,
   "id": "9264bcaf",
   "metadata": {
    "hidden": true
   },
   "outputs": [],
   "source": []
  }
 ],
 "metadata": {
  "kernelspec": {
   "display_name": "Python 3 (ipykernel)",
   "language": "python",
   "name": "python3"
  },
  "language_info": {
   "codemirror_mode": {
    "name": "ipython",
    "version": 3
   },
   "file_extension": ".py",
   "mimetype": "text/x-python",
   "name": "python",
   "nbconvert_exporter": "python",
   "pygments_lexer": "ipython3",
   "version": "3.9.12"
  }
 },
 "nbformat": 4,
 "nbformat_minor": 5
}
